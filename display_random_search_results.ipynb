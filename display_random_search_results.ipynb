{
 "cells": [
  {
   "cell_type": "code",
   "execution_count": 169,
   "metadata": {},
   "outputs": [],
   "source": [
    "import argparse\n",
    "import contextlib\n",
    "import datetime\n",
    "import io\n",
    "import logging\n",
    "import multiprocessing\n",
    "import os\n",
    "import random\n",
    "import sys\n",
    "from itertools import chain, combinations\n",
    "from timeit import default_timer as timer\n",
    "\n",
    "import altair as alt\n",
    "import altair_viewer\n",
    "import matplotlib.pyplot as plt\n",
    "import numpy as np\n",
    "import pandas as pd\n",
    "import peewee\n",
    "from evolutionary_search import EvolutionaryAlgorithmSearchCV\n",
    "from json_tricks import dumps, loads\n",
    "from playhouse.shortcuts import model_to_dict\n",
    "from scipy.stats import randint, uniform\n",
    "from sklearn.datasets import load_iris\n",
    "from tabulate import tabulate\n",
    "from IPython.core.display import display, HTML \n",
    "\n",
    "from cluster_strategies import (DummyClusterStrategy,\n",
    "                                MostUncertainClusterStrategy,\n",
    "                                RandomClusterStrategy,\n",
    "                                RoundRobinClusterStrategy)\n",
    "from dataStorage import DataStorage\n",
    "from experiment_setup_lib import (ExperimentResult,\n",
    "                                  classification_report_and_confusion_matrix,\n",
    "                                  get_db, get_single_al_run_stats_row,\n",
    "                                  get_single_al_run_stats_table_header,\n",
    "                                  load_and_prepare_X_and_Y)\n",
    "from sampling_strategies import (BoundaryPairSampler, CommitteeSampler,\n",
    "                                 RandomSampler, UncertaintySampler)\n",
    "\n",
    "alt.renderers.enable('altair_viewer')\n",
    "#  alt.renderers.enable('vegascope')\n",
    "\n",
    "config = {\n",
    "    'datasets_path': '../datasets',\n",
    "    'db': \"tunnel\",\n",
    "    'param_list_id': 'best_global_score',\n",
    "}\n",
    "\n",
    "db = get_db(db_name_or_type=config['db'])"
   ]
  },
  {
   "cell_type": "code",
   "execution_count": 174,
   "metadata": {},
   "outputs": [
    {
     "name": "stdout",
     "output_type": "stream",
     "text": [
      " 551 orange\n",
      " 545 sylva\n",
      " 553 hiva\n",
      " 555 ibn_sina\n",
      " 536 zebra\n",
      " 555 dwtc\n"
     ]
    }
   ],
   "source": [
    " # select count(*), dataset_name from experimentresult group by dataset_name;\n",
    "results = ExperimentResult.select(\n",
    "    ExperimentResult.dataset_name,\n",
    "    peewee.fn.COUNT(\n",
    "        ExperimentResult.id_field).alias('dataset_name_count')).group_by(\n",
    "            ExperimentResult.dataset_name)\n",
    "\n",
    "for result in results:\n",
    "    print(\"{:>4,d} {}\".format(result.dataset_name_count,\n",
    "                              result.dataset_name))"
   ]
  },
  {
   "cell_type": "code",
   "execution_count": 176,
   "metadata": {},
   "outputs": [
    {
     "data": {
      "text/html": [
       "<table>\n",
       "<thead>\n",
       "<tr><th style=\"text-align: right;\">  avg_fit_score</th><th style=\"text-align: right;\">  stddev_fit_score</th><th style=\"text-align: right;\">  avg_global_score</th><th style=\"text-align: right;\">  stddev_global_score</th><th style=\"text-align: right;\">  sss</th><th style=\"text-align: right;\">  count</th><th>param_list_id                   </th></tr>\n",
       "</thead>\n",
       "<tbody>\n",
       "<tr><td style=\"text-align: right;\">       0.930348</td><td style=\"text-align: right;\">         0.105443 </td><td style=\"text-align: right;\">          0.606388</td><td style=\"text-align: right;\">             0.313598</td><td style=\"text-align: right;\">    1</td><td style=\"text-align: right;\">      6</td><td>64b73179210ab8e0e51e69764ccde12f</td></tr>\n",
       "<tr><td style=\"text-align: right;\">       0.928412</td><td style=\"text-align: right;\">         0.0999027</td><td style=\"text-align: right;\">          0.433891</td><td style=\"text-align: right;\">             0.311504</td><td style=\"text-align: right;\">    1</td><td style=\"text-align: right;\">      6</td><td>7d1a62f23838940d1ba579324718f0aa</td></tr>\n",
       "<tr><td style=\"text-align: right;\">       0.928262</td><td style=\"text-align: right;\">         0.116707 </td><td style=\"text-align: right;\">          0.503081</td><td style=\"text-align: right;\">             0.503896</td><td style=\"text-align: right;\">    1</td><td style=\"text-align: right;\">      6</td><td>c2cd010e2b719b4e5ccf5b8f466e1fd5</td></tr>\n",
       "<tr><td style=\"text-align: right;\">       0.924321</td><td style=\"text-align: right;\">         0.113858 </td><td style=\"text-align: right;\">          0.582781</td><td style=\"text-align: right;\">             0.396944</td><td style=\"text-align: right;\">    1</td><td style=\"text-align: right;\">      6</td><td>654478bcfe01e9d9febe75501bd17c61</td></tr>\n",
       "<tr><td style=\"text-align: right;\">       0.924005</td><td style=\"text-align: right;\">         0.104353 </td><td style=\"text-align: right;\">          0.511911</td><td style=\"text-align: right;\">             0.249029</td><td style=\"text-align: right;\">    1</td><td style=\"text-align: right;\">      6</td><td>c67d2c58677a7af14eedbee2c90e675e</td></tr>\n",
       "<tr><td style=\"text-align: right;\">       0.923221</td><td style=\"text-align: right;\">         0.11944  </td><td style=\"text-align: right;\">          0.518587</td><td style=\"text-align: right;\">             0.445439</td><td style=\"text-align: right;\">    1</td><td style=\"text-align: right;\">      6</td><td>69c0a5a7034a6e9e433a85ce3200e661</td></tr>\n",
       "<tr><td style=\"text-align: right;\">       0.919231</td><td style=\"text-align: right;\">         0.129267 </td><td style=\"text-align: right;\">          0.584561</td><td style=\"text-align: right;\">             0.426148</td><td style=\"text-align: right;\">    1</td><td style=\"text-align: right;\">      6</td><td>2c14245f3ef401ad0b4602d19991343d</td></tr>\n",
       "<tr><td style=\"text-align: right;\">       0.918191</td><td style=\"text-align: right;\">         0.129225 </td><td style=\"text-align: right;\">          0.558451</td><td style=\"text-align: right;\">             0.501106</td><td style=\"text-align: right;\">    1</td><td style=\"text-align: right;\">      6</td><td>af121819cf904c847ed7978b44b7d770</td></tr>\n",
       "<tr><td style=\"text-align: right;\">       0.917097</td><td style=\"text-align: right;\">         0.122709 </td><td style=\"text-align: right;\">          0.593419</td><td style=\"text-align: right;\">             0.347246</td><td style=\"text-align: right;\">    1</td><td style=\"text-align: right;\">      6</td><td>9efea32a12854eb6aac801a44c3aa9b1</td></tr>\n",
       "<tr><td style=\"text-align: right;\">       0.914023</td><td style=\"text-align: right;\">         0.101065 </td><td style=\"text-align: right;\">          0.490415</td><td style=\"text-align: right;\">             0.467328</td><td style=\"text-align: right;\">    1</td><td style=\"text-align: right;\">      6</td><td>e7678ee92dcf53cbfc3fb64589798ad1</td></tr>\n",
       "<tr><td style=\"text-align: right;\">       0.913117</td><td style=\"text-align: right;\">         0.106036 </td><td style=\"text-align: right;\">          0.561495</td><td style=\"text-align: right;\">             0.473319</td><td style=\"text-align: right;\">    1</td><td style=\"text-align: right;\">      6</td><td>7f0172393dae25c18dce1393a421e168</td></tr>\n",
       "<tr><td style=\"text-align: right;\">       0.910204</td><td style=\"text-align: right;\">         0.151327 </td><td style=\"text-align: right;\">          0.400767</td><td style=\"text-align: right;\">             0.41635 </td><td style=\"text-align: right;\">    1</td><td style=\"text-align: right;\">      6</td><td>0695909edbe62aee54905cfd87f78aee</td></tr>\n",
       "<tr><td style=\"text-align: right;\">       0.907519</td><td style=\"text-align: right;\">         0.111251 </td><td style=\"text-align: right;\">          0.455308</td><td style=\"text-align: right;\">             0.312423</td><td style=\"text-align: right;\">    1</td><td style=\"text-align: right;\">      6</td><td>9b142378f3814644e024347c032a98ca</td></tr>\n",
       "<tr><td style=\"text-align: right;\">       0.906508</td><td style=\"text-align: right;\">         0.114473 </td><td style=\"text-align: right;\">          0.339226</td><td style=\"text-align: right;\">             0.452758</td><td style=\"text-align: right;\">    1</td><td style=\"text-align: right;\">      6</td><td>4a229ce7619d4fff7f2c65e8ff759639</td></tr>\n",
       "<tr><td style=\"text-align: right;\">       0.906294</td><td style=\"text-align: right;\">         0.11363  </td><td style=\"text-align: right;\">          0.514977</td><td style=\"text-align: right;\">             0.396471</td><td style=\"text-align: right;\">    1</td><td style=\"text-align: right;\">      6</td><td>3b2bf5398d8d570d130237f287eb6036</td></tr>\n",
       "<tr><td style=\"text-align: right;\">       0.906277</td><td style=\"text-align: right;\">         0.109754 </td><td style=\"text-align: right;\">          0.402433</td><td style=\"text-align: right;\">             0.55349 </td><td style=\"text-align: right;\">    1</td><td style=\"text-align: right;\">      6</td><td>c6835dbf6ff1959b63218e8ce059b02b</td></tr>\n",
       "<tr><td style=\"text-align: right;\">       0.905485</td><td style=\"text-align: right;\">         0.146381 </td><td style=\"text-align: right;\">          0.461512</td><td style=\"text-align: right;\">             0.386665</td><td style=\"text-align: right;\">    1</td><td style=\"text-align: right;\">      6</td><td>6b64c11a18d098d4e681196b20417564</td></tr>\n",
       "<tr><td style=\"text-align: right;\">       0.905477</td><td style=\"text-align: right;\">         0.124698 </td><td style=\"text-align: right;\">          0.400917</td><td style=\"text-align: right;\">             0.416008</td><td style=\"text-align: right;\">    1</td><td style=\"text-align: right;\">      6</td><td>52bbad3491e6d99cfcd17066fb0d24de</td></tr>\n",
       "<tr><td style=\"text-align: right;\">       0.904189</td><td style=\"text-align: right;\">         0.116418 </td><td style=\"text-align: right;\">          0.561024</td><td style=\"text-align: right;\">             0.399319</td><td style=\"text-align: right;\">    1</td><td style=\"text-align: right;\">      6</td><td>5eb05f6227f48f94917b7feac9c84ea8</td></tr>\n",
       "<tr><td style=\"text-align: right;\">       0.903822</td><td style=\"text-align: right;\">         0.133679 </td><td style=\"text-align: right;\">          0.496737</td><td style=\"text-align: right;\">             0.341288</td><td style=\"text-align: right;\">    1</td><td style=\"text-align: right;\">      6</td><td>b4a09c0e8da00d6f359ce911e17090dd</td></tr>\n",
       "</tbody>\n",
       "</table>"
      ],
      "text/plain": [
       "<IPython.core.display.HTML object>"
      ]
     },
     "metadata": {},
     "output_type": "display_data"
    }
   ],
   "source": [
    "#  SELECT param_list_id, avg(fit_score), stddev(fit_score), avg(global_score), stddev(global_score), avg(start_set_size) as sss, count(*) FROM experimentresult WHERE start_set_size = 1 GROUP BY param_list_id ORDER BY 7 DESC, 4 DESC LIMIT 30;\n",
    "\n",
    "results = ExperimentResult.select(\n",
    "    ExperimentResult.param_list_id,\n",
    "    peewee.fn.AVG(ExperimentResult.fit_score).alias('avg_fit_score'),\n",
    "    peewee.fn.STDDEV(ExperimentResult.fit_score).alias('stddev_fit_score'),\n",
    "    peewee.fn.AVG(ExperimentResult.global_score).alias('avg_global_score'),\n",
    "    peewee.fn.STDDEV(\n",
    "        ExperimentResult.global_score).alias('stddev_global_score'),\n",
    "    peewee.fn.AVG(ExperimentResult.start_set_size).alias('sss'),\n",
    "    peewee.fn.COUNT(ExperimentResult.id_field).alias('count')).group_by(\n",
    "        ExperimentResult.param_list_id).order_by(\n",
    "            peewee.fn.COUNT(ExperimentResult.id_field).desc(),\n",
    "            peewee.fn.AVG(ExperimentResult.fit_score).desc()).limit(20)\n",
    "\n",
    "table = []\n",
    "\n",
    "for result in results:\n",
    "    data = vars(result)\n",
    "    data['param_list_id'] = data['__data__']['param_list_id']\n",
    "    del data['__data__']\n",
    "    del data['_dirty']\n",
    "    del data['__rel__']\n",
    "    table.append(vars(result))\n",
    "\n",
    "display(HTML(tabulate(table, headers=\"keys\", tablefmt=\"html\")))\n"
   ]
  },
  {
   "cell_type": "code",
   "execution_count": 172,
   "metadata": {},
   "outputs": [
    {
     "data": {
      "text/plain": [
       "[<ExperimentResult: 2376>,\n",
       " <ExperimentResult: 2377>,\n",
       " <ExperimentResult: 2378>,\n",
       " <ExperimentResult: 2379>,\n",
       " <ExperimentResult: 2380>,\n",
       " <ExperimentResult: 2381>]"
      ]
     },
     "execution_count": 172,
     "metadata": {},
     "output_type": "execute_result"
    }
   ],
   "source": [
    "# SELECT id_field, param_list_id, dataset_path, start_set_size as sss, sampling, cluster, allow_recommendations_after_stop as SA, stopping_criteria_uncertainty as SCU, stopping_criteria_std as SCS, stopping_criteria_acc as SCA, amount_of_user_asked_queries as \"#q\", acc_test, fit_score, global_score_norm, thread_id, end_time from experimentresult where param_list_id='31858014d685a3f1ba3e4e32690ddfc3' order by end_time, fit_score desc, param_list_id;\n",
    "best_param_list_id = table[0]['param_list_id']\n",
    "\n",
    "results = ExperimentResult.select().where(\n",
    "    ExperimentResult.param_list_id == best_param_list_id)\n",
    "\n",
    "loaded_data = []\n",
    "for result in results:\n",
    "    loaded_data.append(result)\n",
    "loaded_data"
   ]
  },
  {
   "cell_type": "code",
   "execution_count": 173,
   "metadata": {},
   "outputs": [
    {
     "data": {
      "application/vnd.vegalite.v4+json": {
       "$schema": "https://vega.github.io/schema/vega-lite/v4.0.2.json",
       "config": {
        "view": {
         "continuousHeight": 300,
         "continuousWidth": 400
        }
       },
       "datasets": {
        "data-0431997c818155aa2ae6267f4fa74e7d": [
         {
          "all_unlabeled_roc_auc_scores": 0.7740084807565876,
          "asked_queries": 2,
          "f1": 0.44804320094892064,
          "iteration": 0,
          "query_length": 2,
          "query_length_cumsum": 0,
          "query_strong_accuracy_list": null,
          "recommendation": "Ground Truth",
          "test_acc": 0.3458864027538726
         },
         {
          "all_unlabeled_roc_auc_scores": 0.8208471957701088,
          "asked_queries": 12,
          "f1": 0.9086776596448352,
          "iteration": 1,
          "query_length": 10,
          "query_length_cumsum": 2,
          "query_strong_accuracy_list": null,
          "recommendation": "Oracle",
          "test_acc": 0.9384673643624346
         },
         {
          "all_unlabeled_roc_auc_scores": 0.51846252067999,
          "asked_queries": 70179,
          "f1": 0.8946738341680054,
          "iteration": 2,
          "query_length": 70167,
          "query_length_cumsum": 12,
          "query_strong_accuracy_list": 0.9486938304331096,
          "recommendation": "Weak Certainty",
          "test_acc": 0.9289091950501512
         },
         {
          "all_unlabeled_roc_auc_scores": 0.516243286655245,
          "asked_queries": 70180,
          "f1": 0.894672449259873,
          "iteration": 3,
          "query_length": 1,
          "query_length_cumsum": 70179,
          "query_strong_accuracy_list": 1,
          "recommendation": "Weak Cluster",
          "test_acc": 0.9289082480818415
         },
         {
          "all_unlabeled_roc_auc_scores": 0.5082035975591033,
          "asked_queries": 70632,
          "f1": 0.899710029558849,
          "iteration": 4,
          "query_length": 452,
          "query_length_cumsum": 70180,
          "query_strong_accuracy_list": 0.3606194690265487,
          "recommendation": "Weak Cluster",
          "test_acc": 0.9323505762530153
         },
         {
          "all_unlabeled_roc_auc_scores": 0.5110233207619946,
          "asked_queries": 70651,
          "f1": 0.8999007279333691,
          "iteration": 5,
          "query_length": 19,
          "query_length_cumsum": 70632,
          "query_strong_accuracy_list": 0.42105263157894735,
          "recommendation": "Weak Cluster",
          "test_acc": 0.9324807978445329
         },
         {
          "all_unlabeled_roc_auc_scores": 0.5125738630324556,
          "asked_queries": 70654,
          "f1": 0.8998967514804498,
          "iteration": 6,
          "query_length": 3,
          "query_length_cumsum": 70651,
          "query_strong_accuracy_list": 1,
          "recommendation": "Weak Cluster",
          "test_acc": 0.9324780825223197
         },
         {
          "all_unlabeled_roc_auc_scores": 0.5106150866696699,
          "asked_queries": 70658,
          "f1": 0.8998914490520408,
          "iteration": 7,
          "query_length": 4,
          "query_length_cumsum": 70654,
          "query_strong_accuracy_list": 1,
          "recommendation": "Weak Cluster",
          "test_acc": 0.932474461752956
         },
         {
          "all_unlabeled_roc_auc_scores": 0.5094048201662507,
          "asked_queries": 70686,
          "f1": 0.8999328748022346,
          "iteration": 8,
          "query_length": 28,
          "query_length_cumsum": 70658,
          "query_strong_accuracy_list": 0.8571428571428571,
          "recommendation": "Weak Cluster",
          "test_acc": 0.932502749242282
         },
         {
          "all_unlabeled_roc_auc_scores": 0.5091875169292753,
          "asked_queries": 70697,
          "f1": 0.8999182907074007,
          "iteration": 9,
          "query_length": 11,
          "query_length_cumsum": 70686,
          "query_strong_accuracy_list": 1,
          "recommendation": "Weak Cluster",
          "test_acc": 0.9324927905573067
         },
         {
          "all_unlabeled_roc_auc_scores": 0.5100312784183361,
          "asked_queries": 70720,
          "f1": 0.8998877829579333,
          "iteration": 10,
          "query_length": 23,
          "query_length_cumsum": 70697,
          "query_strong_accuracy_list": 1,
          "recommendation": "Weak Cluster",
          "test_acc": 0.9324719583534589
         },
         {
          "all_unlabeled_roc_auc_scores": 0.5110571706639438,
          "asked_queries": 70755,
          "f1": 0.8998413224396168,
          "iteration": 11,
          "query_length": 35,
          "query_length_cumsum": 70720,
          "query_strong_accuracy_list": 1,
          "recommendation": "Weak Cluster",
          "test_acc": 0.9324402324925836
         },
         {
          "all_unlabeled_roc_auc_scores": 0.5114266181404555,
          "asked_queries": 70793,
          "f1": 0.8997908307693617,
          "iteration": 12,
          "query_length": 38,
          "query_length_cumsum": 70755,
          "query_strong_accuracy_list": 1,
          "recommendation": "Weak Cluster",
          "test_acc": 0.9324057535019272
         },
         {
          "all_unlabeled_roc_auc_scores": 0.5082681805244589,
          "asked_queries": 70819,
          "f1": 0.8997956027387679,
          "iteration": 13,
          "query_length": 26,
          "query_length_cumsum": 70793,
          "query_strong_accuracy_list": 0.9230769230769231,
          "recommendation": "Weak Cluster",
          "test_acc": 0.9324090121317158
         },
         {
          "all_unlabeled_roc_auc_scores": 0.5084322333447153,
          "asked_queries": 70820,
          "f1": 0.8997942729216294,
          "iteration": 14,
          "query_length": 1,
          "query_length_cumsum": 70819,
          "query_strong_accuracy_list": 1,
          "recommendation": "Weak Cluster",
          "test_acc": 0.9324081040412726
         },
         {
          "all_unlabeled_roc_auc_scores": 0.5097985953629158,
          "asked_queries": 70941,
          "f1": 0.8999681154207967,
          "iteration": 15,
          "query_length": 121,
          "query_length_cumsum": 70820,
          "query_strong_accuracy_list": 0.859504132231405,
          "recommendation": "Weak Cluster",
          "test_acc": 0.9325268129886558
         },
         {
          "all_unlabeled_roc_auc_scores": 0.5078590873997421,
          "asked_queries": 71209,
          "f1": 0.9004214146384925,
          "iteration": 16,
          "query_length": 268,
          "query_length_cumsum": 70941,
          "query_strong_accuracy_list": 0.8470149253731343,
          "recommendation": "Weak Cluster",
          "test_acc": 0.9328363248382696
         },
         {
          "all_unlabeled_roc_auc_scores": 0.5104363420577859,
          "asked_queries": 71213,
          "f1": 0.9004161000858272,
          "iteration": 17,
          "query_length": 4,
          "query_length_cumsum": 71209,
          "query_strong_accuracy_list": 1,
          "recommendation": "Weak Cluster",
          "test_acc": 0.9328326962816894
         },
         {
          "all_unlabeled_roc_auc_scores": 0.5086918223607427,
          "asked_queries": 71236,
          "f1": 0.9003855304022643,
          "iteration": 18,
          "query_length": 23,
          "query_length_cumsum": 71213,
          "query_strong_accuracy_list": 1,
          "recommendation": "Weak Cluster",
          "test_acc": 0.9328118244703848
         },
         {
          "all_unlabeled_roc_auc_scores": 0.5074418448777425,
          "asked_queries": 71258,
          "f1": 0.9003562722785342,
          "iteration": 19,
          "query_length": 22,
          "query_length_cumsum": 71236,
          "query_strong_accuracy_list": 1,
          "recommendation": "Weak Cluster",
          "test_acc": 0.9327918479876747
         },
         {
          "all_unlabeled_roc_auc_scores": 0.5068643280251003,
          "asked_queries": 71376,
          "f1": 0.9005360818876851,
          "iteration": 20,
          "query_length": 118,
          "query_length_cumsum": 71258,
          "query_strong_accuracy_list": 0.8559322033898306,
          "recommendation": "Weak Cluster",
          "test_acc": 0.9329146136769723
         },
         {
          "all_unlabeled_roc_auc_scores": 0.5080583636893591,
          "asked_queries": 71674,
          "f1": 0.9001381398058239,
          "iteration": 21,
          "query_length": 298,
          "query_length_cumsum": 71376,
          "query_strong_accuracy_list": 1,
          "recommendation": "Weak Cluster",
          "test_acc": 0.9326429095653592
         },
         {
          "all_unlabeled_roc_auc_scores": 0.5090747790654531,
          "asked_queries": 71680,
          "f1": 0.9001300948642627,
          "iteration": 22,
          "query_length": 6,
          "query_length_cumsum": 71674,
          "query_strong_accuracy_list": 1,
          "recommendation": "Weak Cluster",
          "test_acc": 0.9326374164084162
         },
         {
          "all_unlabeled_roc_auc_scores": 0.5061984334023977,
          "asked_queries": 71686,
          "f1": 0.9001220486271447,
          "iteration": 23,
          "query_length": 6,
          "query_length_cumsum": 71680,
          "query_strong_accuracy_list": 1,
          "recommendation": "Weak Cluster",
          "test_acc": 0.9326319223554359
         },
         {
          "all_unlabeled_roc_auc_scores": 0.5093552557318265,
          "asked_queries": 71690,
          "f1": 0.9001166837491579,
          "iteration": 24,
          "query_length": 4,
          "query_length_cumsum": 71686,
          "query_strong_accuracy_list": 1,
          "recommendation": "Weak Cluster",
          "test_acc": 0.9326282591555423
         },
         {
          "all_unlabeled_roc_auc_scores": 0.506927970795564,
          "asked_queries": 71920,
          "f1": 0.9033834499371218,
          "iteration": 25,
          "query_length": 230,
          "query_length_cumsum": 71690,
          "query_strong_accuracy_list": 0.2217391304347826,
          "recommendation": "Weak Cluster",
          "test_acc": 0.9348579065073911
         },
         {
          "all_unlabeled_roc_auc_scores": 0.5061666946838662,
          "asked_queries": 71937,
          "f1": 0.9033613097602653,
          "iteration": 26,
          "query_length": 17,
          "query_length_cumsum": 71920,
          "query_strong_accuracy_list": 1,
          "recommendation": "Weak Cluster",
          "test_acc": 0.9348428016094933
         },
         {
          "all_unlabeled_roc_auc_scores": 0.5076460210008246,
          "asked_queries": 71951,
          "f1": 0.9033430690570835,
          "iteration": 27,
          "query_length": 14,
          "query_length_cumsum": 71937,
          "query_strong_accuracy_list": 1,
          "recommendation": "Weak Cluster",
          "test_acc": 0.9348303570210502
         },
         {
          "all_unlabeled_roc_auc_scores": 0.5063731624246403,
          "asked_queries": 71968,
          "f1": 0.9033209103773765,
          "iteration": 28,
          "query_length": 17,
          "query_length_cumsum": 71951,
          "query_strong_accuracy_list": 1,
          "recommendation": "Weak Cluster",
          "test_acc": 0.9348152393428306
         },
         {
          "all_unlabeled_roc_auc_scores": 0.508656960980877,
          "asked_queries": 71970,
          "f1": 0.9033183028062834,
          "iteration": 29,
          "query_length": 2,
          "query_length_cumsum": 71968,
          "query_strong_accuracy_list": 1,
          "recommendation": "Weak Cluster",
          "test_acc": 0.9348134603313228
         },
         {
          "all_unlabeled_roc_auc_scores": 0.5062488243246186,
          "asked_queries": 71999,
          "f1": 0.9032804772212595,
          "iteration": 30,
          "query_length": 29,
          "query_length_cumsum": 71970,
          "query_strong_accuracy_list": 1,
          "recommendation": "Weak Cluster",
          "test_acc": 0.9347876537479693
         },
         {
          "all_unlabeled_roc_auc_scores": 0.5077057521702864,
          "asked_queries": 72110,
          "f1": 0.9031354228211996,
          "iteration": 31,
          "query_length": 111,
          "query_length_cumsum": 71999,
          "query_strong_accuracy_list": 1,
          "recommendation": "Weak Cluster",
          "test_acc": 0.9346886877580597
         },
         {
          "all_unlabeled_roc_auc_scores": 0.5061076865469017,
          "asked_queries": 72115,
          "f1": 0.9032090396594364,
          "iteration": 32,
          "query_length": 5,
          "query_length_cumsum": 72110,
          "query_strong_accuracy_list": 0.2,
          "recommendation": "Weak Cluster",
          "test_acc": 0.9347389146396489
         },
         {
          "all_unlabeled_roc_auc_scores": 0.504844519790526,
          "asked_queries": 72196,
          "f1": 0.9031029867576189,
          "iteration": 33,
          "query_length": 81,
          "query_length_cumsum": 72115,
          "query_strong_accuracy_list": 1,
          "recommendation": "Weak Cluster",
          "test_acc": 0.9346665571616294
         },
         {
          "all_unlabeled_roc_auc_scores": 0.5035757411066637,
          "asked_queries": 72549,
          "f1": 0.9081246835046423,
          "iteration": 34,
          "query_length": 353,
          "query_length_cumsum": 72196,
          "query_strong_accuracy_list": 0.22946175637393768,
          "recommendation": "Weak Cluster",
          "test_acc": 0.9380905877336561
         },
         {
          "all_unlabeled_roc_auc_scores": 0.5037250518766678,
          "asked_queries": 72567,
          "f1": 0.9083444759613152,
          "iteration": 35,
          "query_length": 18,
          "query_length_cumsum": 72549,
          "query_strong_accuracy_list": 0.3333333333333333,
          "recommendation": "Weak Cluster",
          "test_acc": 0.938240352204719
         },
         {
          "all_unlabeled_roc_auc_scores": 0.5065571337131893,
          "asked_queries": 72568,
          "f1": 0.9083432289164403,
          "iteration": 36,
          "query_length": 1,
          "query_length_cumsum": 72567,
          "query_strong_accuracy_list": 1,
          "recommendation": "Weak Cluster",
          "test_acc": 0.9382395025039899
         },
         {
          "all_unlabeled_roc_auc_scores": 0.504983745346521,
          "asked_queries": 72604,
          "f1": 0.9085811463532824,
          "iteration": 37,
          "query_length": 36,
          "query_length_cumsum": 72568,
          "query_strong_accuracy_list": 0.6111111111111112,
          "recommendation": "Weak Cluster",
          "test_acc": 0.9384016077524502
         },
         {
          "all_unlabeled_roc_auc_scores": 0.505109755866635,
          "asked_queries": 72626,
          "f1": 0.9085537595851152,
          "iteration": 38,
          "query_length": 22,
          "query_length_cumsum": 72604,
          "query_strong_accuracy_list": 1,
          "recommendation": "Weak Cluster",
          "test_acc": 0.9383829482554457
         }
        ],
        "data-0a7aa5d0dc0897a7ff4e037557bb021b": [
         {
          "all_unlabeled_roc_auc_scores": 0.7039939811380808,
          "asked_queries": 2,
          "f1": 0.5307413398168265,
          "iteration": 0,
          "query_length": 2,
          "query_length_cumsum": 0,
          "query_strong_accuracy_list": null,
          "recommendation": "Ground Truth",
          "test_acc": 0.4035552808769476
         },
         {
          "all_unlabeled_roc_auc_scores": 0.7223852569320202,
          "asked_queries": 12,
          "f1": 0.863226256267634,
          "iteration": 1,
          "query_length": 10,
          "query_length_cumsum": 2,
          "query_strong_accuracy_list": null,
          "recommendation": "Oracle",
          "test_acc": 0.8142039169757304
         },
         {
          "all_unlabeled_roc_auc_scores": 0.5649141745922415,
          "asked_queries": 22,
          "f1": 0.9319357783712907,
          "iteration": 2,
          "query_length": 10,
          "query_length_cumsum": 12,
          "query_strong_accuracy_list": null,
          "recommendation": "Oracle",
          "test_acc": 0.9542023232356099
         },
         {
          "all_unlabeled_roc_auc_scores": 0.57091908716956,
          "asked_queries": 32,
          "f1": 0.9320670424132939,
          "iteration": 3,
          "query_length": 10,
          "query_length_cumsum": 22,
          "query_strong_accuracy_list": null,
          "recommendation": "Oracle",
          "test_acc": 0.9540972403020047
         },
         {
          "all_unlabeled_roc_auc_scores": 0.44981358082992384,
          "asked_queries": 42,
          "f1": 0.9319622803755553,
          "iteration": 4,
          "query_length": 10,
          "query_length_cumsum": 32,
          "query_strong_accuracy_list": null,
          "recommendation": "Oracle",
          "test_acc": 0.9542850633076198
         },
         {
          "all_unlabeled_roc_auc_scores": 0.5734582137420797,
          "asked_queries": 52,
          "f1": 0.9319753253372622,
          "iteration": 5,
          "query_length": 10,
          "query_length_cumsum": 42,
          "query_strong_accuracy_list": null,
          "recommendation": "Oracle",
          "test_acc": 0.954293899342405
         },
         {
          "all_unlabeled_roc_auc_scores": 0.5775799798307132,
          "asked_queries": 62,
          "f1": 0.9320124091677662,
          "iteration": 6,
          "query_length": 10,
          "query_length_cumsum": 52,
          "query_strong_accuracy_list": null,
          "recommendation": "Oracle",
          "test_acc": 0.9543190180054049
         },
         {
          "all_unlabeled_roc_auc_scores": 0.6036964735407209,
          "asked_queries": 72,
          "f1": 0.9320254667006294,
          "iteration": 7,
          "query_length": 10,
          "query_length_cumsum": 62,
          "query_strong_accuracy_list": null,
          "recommendation": "Oracle",
          "test_acc": 0.9543278624462681
         },
         {
          "all_unlabeled_roc_auc_scores": 0.5577976727724053,
          "asked_queries": 82,
          "f1": 0.9320625712324201,
          "iteration": 8,
          "query_length": 10,
          "query_length_cumsum": 72,
          "query_strong_accuracy_list": null,
          "recommendation": "Oracle",
          "test_acc": 0.9543529948213529
         },
         {
          "all_unlabeled_roc_auc_scores": 0.6156827361134023,
          "asked_queries": 92,
          "f1": 0.9320756413502458,
          "iteration": 9,
          "query_length": 10,
          "query_length_cumsum": 82,
          "query_strong_accuracy_list": null,
          "recommendation": "Oracle",
          "test_acc": 0.9543618476773731
         },
         {
          "all_unlabeled_roc_auc_scores": 0.6349902658482577,
          "asked_queries": 102,
          "f1": 0.9321368175789899,
          "iteration": 10,
          "query_length": 10,
          "query_length_cumsum": 92,
          "query_strong_accuracy_list": null,
          "recommendation": "Oracle",
          "test_acc": 0.954403284136448
         },
         {
          "all_unlabeled_roc_auc_scores": 0.6299607428222211,
          "asked_queries": 112,
          "f1": 0.9321661945322098,
          "iteration": 11,
          "query_length": 10,
          "query_length_cumsum": 102,
          "query_strong_accuracy_list": null,
          "recommendation": "Oracle",
          "test_acc": 0.9544121480709072
         },
         {
          "all_unlabeled_roc_auc_scores": 0.5120330519861037,
          "asked_queries": 30666,
          "f1": 0.9322509176853329,
          "iteration": 12,
          "query_length": 30554,
          "query_length_cumsum": 112,
          "query_strong_accuracy_list": 0.9543104012567912,
          "recommendation": "Weak Certainty",
          "test_acc": 0.9544805658296023
         },
         {
          "all_unlabeled_roc_auc_scores": 0.5138415780610942,
          "asked_queries": 30675,
          "f1": 0.9323271205862836,
          "iteration": 13,
          "query_length": 9,
          "query_length_cumsum": 30666,
          "query_strong_accuracy_list": 0.7777777777777778,
          "recommendation": "Weak Cluster",
          "test_acc": 0.954532177976828
         },
         {
          "all_unlabeled_roc_auc_scores": 0.5129183968025948,
          "asked_queries": 30677,
          "f1": 0.9323227629421144,
          "iteration": 14,
          "query_length": 2,
          "query_length_cumsum": 30675,
          "query_strong_accuracy_list": 1,
          "recommendation": "Weak Cluster",
          "test_acc": 0.9545292265749246
         },
         {
          "all_unlabeled_roc_auc_scores": 0.5103901437122258,
          "asked_queries": 30684,
          "f1": 0.9323554378237683,
          "iteration": 15,
          "query_length": 7,
          "query_length_cumsum": 30677,
          "query_strong_accuracy_list": 0.8571428571428571,
          "recommendation": "Weak Cluster",
          "test_acc": 0.9545513569666277
         },
         {
          "all_unlabeled_roc_auc_scores": 0.509663717524179,
          "asked_queries": 30689,
          "f1": 0.9323924832719859,
          "iteration": 16,
          "query_length": 5,
          "query_length_cumsum": 30684,
          "query_strong_accuracy_list": 0.8,
          "recommendation": "Weak Cluster",
          "test_acc": 0.9545764472872496
         },
         {
          "all_unlabeled_roc_auc_scores": 0.5104698727310555,
          "asked_queries": 30690,
          "f1": 0.9323903056169336,
          "iteration": 17,
          "query_length": 1,
          "query_length_cumsum": 30689,
          "query_strong_accuracy_list": 1,
          "recommendation": "Weak Cluster",
          "test_acc": 0.9545749724008052
         },
         {
          "all_unlabeled_roc_auc_scores": 0.5110264062223556,
          "asked_queries": 30693,
          "f1": 0.9323837718101948,
          "iteration": 18,
          "query_length": 3,
          "query_length_cumsum": 30690,
          "query_strong_accuracy_list": 1,
          "recommendation": "Weak Cluster",
          "test_acc": 0.9545705471667478
         },
         {
          "all_unlabeled_roc_auc_scores": 0.5105183760118663,
          "asked_queries": 30702,
          "f1": 0.9324600828734464,
          "iteration": 19,
          "query_length": 9,
          "query_length_cumsum": 30693,
          "query_strong_accuracy_list": 0.7777777777777778,
          "recommendation": "Weak Cluster",
          "test_acc": 0.9546222308841681
         },
         {
          "all_unlabeled_roc_auc_scores": 0.5116877728185046,
          "asked_queries": 30715,
          "f1": 0.9324317785369118,
          "iteration": 20,
          "query_length": 13,
          "query_length_cumsum": 30702,
          "query_strong_accuracy_list": 1,
          "recommendation": "Weak Cluster",
          "test_acc": 0.9546030611250121
         },
         {
          "all_unlabeled_roc_auc_scores": 0.5116967931992896,
          "asked_queries": 30717,
          "f1": 0.9324274219183765,
          "iteration": 21,
          "query_length": 2,
          "query_length_cumsum": 30715,
          "query_strong_accuracy_list": 1,
          "recommendation": "Weak Cluster",
          "test_acc": 0.9546001104936466
         },
         {
          "all_unlabeled_roc_auc_scores": 0.5136324729680188,
          "asked_queries": 30718,
          "f1": 0.9324252433984779,
          "iteration": 22,
          "query_length": 1,
          "query_length_cumsum": 30717,
          "query_strong_accuracy_list": 1,
          "recommendation": "Weak Cluster",
          "test_acc": 0.9545986350341241
         },
         {
          "all_unlabeled_roc_auc_scores": 0.5159792275339911,
          "asked_queries": 30731,
          "f1": 0.9324929211300147,
          "iteration": 23,
          "query_length": 13,
          "query_length_cumsum": 30718,
          "query_strong_accuracy_list": 0.8461538461538461,
          "recommendation": "Weak Cluster",
          "test_acc": 0.954644471177293
         },
         {
          "all_unlabeled_roc_auc_scores": 0.5114339725371851,
          "asked_queries": 30733,
          "f1": 0.9324885661556422,
          "iteration": 24,
          "query_length": 2,
          "query_length_cumsum": 30731,
          "query_strong_accuracy_list": 1,
          "recommendation": "Weak Cluster",
          "test_acc": 0.954641521703788
         },
         {
          "all_unlabeled_roc_auc_scores": 0.5115705644627141,
          "asked_queries": 30736,
          "f1": 0.9324820326407027,
          "iteration": 25,
          "query_length": 3,
          "query_length_cumsum": 30733,
          "query_strong_accuracy_list": 1,
          "recommendation": "Weak Cluster",
          "test_acc": 0.9546370967741935
         },
         {
          "all_unlabeled_roc_auc_scores": 0.5082749820488915,
          "asked_queries": 30738,
          "f1": 0.9325256934970441,
          "iteration": 26,
          "query_length": 2,
          "query_length_cumsum": 30736,
          "query_strong_accuracy_list": 0.5,
          "recommendation": "Weak Cluster",
          "test_acc": 0.9546666666666667
         },
         {
          "all_unlabeled_roc_auc_scores": 0.5107582267182502,
          "asked_queries": 30740,
          "f1": 0.9325213396278407,
          "iteration": 27,
          "query_length": 2,
          "query_length_cumsum": 30738,
          "query_strong_accuracy_list": 1,
          "recommendation": "Weak Cluster",
          "test_acc": 0.9546637179653962
         },
         {
          "all_unlabeled_roc_auc_scores": 0.5093471634374261,
          "asked_queries": 30741,
          "f1": 0.9325191624825808,
          "iteration": 28,
          "query_length": 1,
          "query_length_cumsum": 30740,
          "query_strong_accuracy_list": 1,
          "recommendation": "Weak Cluster",
          "test_acc": 0.9546622434709078
         },
         {
          "all_unlabeled_roc_auc_scores": 0.5095768834020843,
          "asked_queries": 30743,
          "f1": 0.9325148077706775,
          "iteration": 29,
          "query_length": 2,
          "query_length_cumsum": 30741,
          "query_strong_accuracy_list": 1,
          "recommendation": "Weak Cluster",
          "test_acc": 0.9546592941941779
         },
         {
          "all_unlabeled_roc_auc_scores": 0.510809810357849,
          "asked_queries": 30744,
          "f1": 0.9325126302040067,
          "iteration": 30,
          "query_length": 1,
          "query_length_cumsum": 30743,
          "query_strong_accuracy_list": 1,
          "recommendation": "Weak Cluster",
          "test_acc": 0.9546578194119177
         }
        ],
        "data-33cc152192247f5476ff6c041bfe0415": [
         {
          "all_unlabeled_roc_auc_scores": 0.5699126040200799,
          "asked_queries": 2,
          "f1": 0.8881014689556346,
          "iteration": 0,
          "query_length": 2,
          "query_length_cumsum": 0,
          "query_strong_accuracy_list": null,
          "recommendation": "Ground Truth",
          "test_acc": 0.848111350642047
         },
         {
          "all_unlabeled_roc_auc_scores": 0.6100898119062834,
          "asked_queries": 12,
          "f1": 0.9474512839442061,
          "iteration": 1,
          "query_length": 10,
          "query_length_cumsum": 2,
          "query_strong_accuracy_list": null,
          "recommendation": "Oracle",
          "test_acc": 0.9646791356114939
         },
         {
          "all_unlabeled_roc_auc_scores": 0.4863943405326471,
          "asked_queries": 19826,
          "f1": 0.9468484378865836,
          "iteration": 2,
          "query_length": 19814,
          "query_length_cumsum": 12,
          "query_strong_accuracy_list": 0.9652770768143737,
          "recommendation": "Weak Certainty",
          "test_acc": 0.9642919656922808
         },
         {
          "all_unlabeled_roc_auc_scores": 0.4823256208871429,
          "asked_queries": 19831,
          "f1": 0.946901731349697,
          "iteration": 3,
          "query_length": 5,
          "query_length_cumsum": 19826,
          "query_strong_accuracy_list": 0.8,
          "recommendation": "Weak Cluster",
          "test_acc": 0.9643279205147284
         },
         {
          "all_unlabeled_roc_auc_scores": 0.493237360776458,
          "asked_queries": 19832,
          "f1": 0.9468994215322616,
          "iteration": 4,
          "query_length": 1,
          "query_length_cumsum": 19831,
          "query_strong_accuracy_list": 1,
          "recommendation": "Weak Cluster",
          "test_acc": 0.9643263591000613
         },
         {
          "all_unlabeled_roc_auc_scores": 0.48546513039911393,
          "asked_queries": 19834,
          "f1": 0.9468948012945564,
          "iteration": 5,
          "query_length": 2,
          "query_length_cumsum": 19832,
          "query_strong_accuracy_list": 1,
          "recommendation": "Weak Cluster",
          "test_acc": 0.9643232358606199
         },
         {
          "all_unlabeled_roc_auc_scores": 0.4870576507753366,
          "asked_queries": 19836,
          "f1": 0.9468901802528977,
          "iteration": 6,
          "query_length": 2,
          "query_length_cumsum": 19834,
          "query_strong_accuracy_list": 1,
          "recommendation": "Weak Cluster",
          "test_acc": 0.9643201120742492
         },
         {
          "all_unlabeled_roc_auc_scores": 0.4908520522532142,
          "asked_queries": 19838,
          "f1": 0.9468855584070757,
          "iteration": 7,
          "query_length": 2,
          "query_length_cumsum": 19836,
          "query_strong_accuracy_list": 1,
          "recommendation": "Weak Cluster",
          "test_acc": 0.9643169877408057
         },
         {
          "all_unlabeled_roc_auc_scores": 0.4811872749727997,
          "asked_queries": 19846,
          "f1": 0.9468670629779538,
          "iteration": 8,
          "query_length": 8,
          "query_length_cumsum": 19838,
          "query_strong_accuracy_list": 1,
          "recommendation": "Weak Cluster",
          "test_acc": 0.9643044849334268
         },
         {
          "all_unlabeled_roc_auc_scores": 0.4887627571315684,
          "asked_queries": 19849,
          "f1": 0.9469039153610519,
          "iteration": 9,
          "query_length": 3,
          "query_length_cumsum": 19846,
          "query_strong_accuracy_list": 1,
          "recommendation": "Weak Cluster",
          "test_acc": 0.9643874019886985
         },
         {
          "all_unlabeled_roc_auc_scores": 0.4841987418284358,
          "asked_queries": 19850,
          "f1": 0.9468578104329515,
          "iteration": 10,
          "query_length": 1,
          "query_length_cumsum": 19849,
          "query_strong_accuracy_list": 1,
          "recommendation": "Weak Cluster",
          "test_acc": 0.9642982302435605
         },
         {
          "all_unlabeled_roc_auc_scores": 0.4986598039869742,
          "asked_queries": 19851,
          "f1": 0.946855496793245,
          "iteration": 11,
          "query_length": 1,
          "query_length_cumsum": 19850,
          "query_strong_accuracy_list": 1,
          "recommendation": "Weak Cluster",
          "test_acc": 0.964296666228589
         },
         {
          "all_unlabeled_roc_auc_scores": 0.4956294665617927,
          "asked_queries": 19853,
          "f1": 0.9468508689095015,
          "iteration": 12,
          "query_length": 2,
          "query_length_cumsum": 19851,
          "query_strong_accuracy_list": 1,
          "recommendation": "Weak Cluster",
          "test_acc": 0.9642935377875137
         },
         {
          "all_unlabeled_roc_auc_scores": 0.4921964926592182,
          "asked_queries": 19873,
          "f1": 0.9468695181952675,
          "iteration": 13,
          "query_length": 20,
          "query_length_cumsum": 19853,
          "query_strong_accuracy_list": 0.95,
          "recommendation": "Weak Cluster",
          "test_acc": 0.964306073229555
         },
         {
          "all_unlabeled_roc_auc_scores": 0.48786364280134265,
          "asked_queries": 19884,
          "f1": 0.9468878956874843,
          "iteration": 14,
          "query_length": 11,
          "query_length_cumsum": 19873,
          "query_strong_accuracy_list": 1,
          "recommendation": "Weak Cluster",
          "test_acc": 0.9643765903307888
         },
         {
          "all_unlabeled_roc_auc_scores": 0.4913080774816274,
          "asked_queries": 19892,
          "f1": 0.9468254898015053,
          "iteration": 15,
          "query_length": 8,
          "query_length_cumsum": 19884,
          "query_strong_accuracy_list": 1,
          "recommendation": "Weak Cluster",
          "test_acc": 0.9642763100149214
         },
         {
          "all_unlabeled_roc_auc_scores": 0.5070772011198535,
          "asked_queries": 19905,
          "f1": 0.9467953230492272,
          "iteration": 16,
          "query_length": 13,
          "query_length_cumsum": 19892,
          "query_strong_accuracy_list": 1,
          "recommendation": "Weak Cluster",
          "test_acc": 0.9642559170948053
         },
         {
          "all_unlabeled_roc_auc_scores": 0.49121635370167055,
          "asked_queries": 19908,
          "f1": 0.9467883566303121,
          "iteration": 17,
          "query_length": 3,
          "query_length_cumsum": 19905,
          "query_strong_accuracy_list": 1,
          "recommendation": "Weak Cluster",
          "test_acc": 0.9642512077294686
         },
         {
          "all_unlabeled_roc_auc_scores": 0.494132590957994,
          "asked_queries": 19911,
          "f1": 0.9467813883871243,
          "iteration": 18,
          "query_length": 3,
          "query_length_cumsum": 19908,
          "query_strong_accuracy_list": 1,
          "recommendation": "Weak Cluster",
          "test_acc": 0.9642464971230289
         },
         {
          "all_unlabeled_roc_auc_scores": 0.4919923531216152,
          "asked_queries": 19913,
          "f1": 0.946776741877827,
          "iteration": 19,
          "query_length": 2,
          "query_length_cumsum": 19911,
          "query_strong_accuracy_list": 1,
          "recommendation": "Weak Cluster",
          "test_acc": 0.9642433560289919
         },
         {
          "all_unlabeled_roc_auc_scores": 0.4995168369855565,
          "asked_queries": 19915,
          "f1": 0.9467720945572111,
          "iteration": 20,
          "query_length": 2,
          "query_length_cumsum": 19913,
          "query_strong_accuracy_list": 1,
          "recommendation": "Weak Cluster",
          "test_acc": 0.9642402143829899
         },
         {
          "all_unlabeled_roc_auc_scores": 0.4865475204835572,
          "asked_queries": 19917,
          "f1": 0.9467674464250638,
          "iteration": 21,
          "query_length": 2,
          "query_length_cumsum": 19915,
          "query_strong_accuracy_list": 1,
          "recommendation": "Weak Cluster",
          "test_acc": 0.9642370721848776
         },
         {
          "all_unlabeled_roc_auc_scores": 0.4919669558095998,
          "asked_queries": 19923,
          "f1": 0.9467974310054874,
          "iteration": 22,
          "query_length": 6,
          "query_length_cumsum": 19917,
          "query_strong_accuracy_list": 1,
          "recommendation": "Weak Cluster",
          "test_acc": 0.9643155350472423
         },
         {
          "all_unlabeled_roc_auc_scores": 0.500519506643803,
          "asked_queries": 19924,
          "f1": 0.946751171568671,
          "iteration": 23,
          "query_length": 1,
          "query_length_cumsum": 19923,
          "query_strong_accuracy_list": 1,
          "recommendation": "Weak Cluster",
          "test_acc": 0.9642260701415136
         },
         {
          "all_unlabeled_roc_auc_scores": 0.4874349548711356,
          "asked_queries": 19925,
          "f1": 0.9467488457769109,
          "iteration": 24,
          "query_length": 1,
          "query_length_cumsum": 19924,
          "query_strong_accuracy_list": 1,
          "recommendation": "Weak Cluster",
          "test_acc": 0.9642244978684129
         },
         {
          "all_unlabeled_roc_auc_scores": 0.4898019003911248,
          "asked_queries": 19926,
          "f1": 0.9467465197820019,
          "iteration": 25,
          "query_length": 1,
          "query_length_cumsum": 19925,
          "query_strong_accuracy_list": 1,
          "recommendation": "Weak Cluster",
          "test_acc": 0.9642229254571026
         },
         {
          "all_unlabeled_roc_auc_scores": 0.4925684484274519,
          "asked_queries": 19931,
          "f1": 0.9467348867592956,
          "iteration": 26,
          "query_length": 5,
          "query_length_cumsum": 19926,
          "query_strong_accuracy_list": 1,
          "recommendation": "Weak Cluster",
          "test_acc": 0.9642150613267684
         },
         {
          "all_unlabeled_roc_auc_scores": 0.4910397897678706,
          "asked_queries": 19932,
          "f1": 0.9467325595449357,
          "iteration": 27,
          "query_length": 1,
          "query_length_cumsum": 19931,
          "query_strong_accuracy_list": 1,
          "recommendation": "Weak Cluster",
          "test_acc": 0.9642134880858173
         },
         {
          "all_unlabeled_roc_auc_scores": 0.4911370312127625,
          "asked_queries": 19935,
          "f1": 0.9467255766817385,
          "iteration": 28,
          "query_length": 3,
          "query_length_cumsum": 19932,
          "query_strong_accuracy_list": 1,
          "recommendation": "Weak Cluster",
          "test_acc": 0.9642087675328672
         },
         {
          "all_unlabeled_roc_auc_scores": 0.4927605805754539,
          "asked_queries": 19936,
          "f1": 0.9467232486538784,
          "iteration": 29,
          "query_length": 1,
          "query_length_cumsum": 19935,
          "query_strong_accuracy_list": 1,
          "recommendation": "Weak Cluster",
          "test_acc": 0.9642071937384574
         },
         {
          "all_unlabeled_roc_auc_scores": 0.4887535332904872,
          "asked_queries": 19937,
          "f1": 0.9467429013537132,
          "iteration": 30,
          "query_length": 1,
          "query_length_cumsum": 19936,
          "query_strong_accuracy_list": 1,
          "recommendation": "Weak Cluster",
          "test_acc": 0.9642495932456796
         },
         {
          "all_unlabeled_roc_auc_scores": 0.4952662355534586,
          "asked_queries": 19948,
          "f1": 0.9469128466062235,
          "iteration": 31,
          "query_length": 11,
          "query_length_cumsum": 19937,
          "query_strong_accuracy_list": 0.7272727272727273,
          "recommendation": "Weak Cluster",
          "test_acc": 0.9643642762868456
         },
         {
          "all_unlabeled_roc_auc_scores": 0.4933882625681962,
          "asked_queries": 19957,
          "f1": 0.946869948056998,
          "iteration": 32,
          "query_length": 9,
          "query_length_cumsum": 19948,
          "query_strong_accuracy_list": 1,
          "recommendation": "Weak Cluster",
          "test_acc": 0.9643061484969851
         },
         {
          "all_unlabeled_roc_auc_scores": 0.49362896486103364,
          "asked_queries": 19961,
          "f1": 0.9468606508032853,
          "iteration": 33,
          "query_length": 4,
          "query_length_cumsum": 19957,
          "query_strong_accuracy_list": 1,
          "recommendation": "Weak Cluster",
          "test_acc": 0.9642998635383193
         },
         {
          "all_unlabeled_roc_auc_scores": 0.49342591472306174,
          "asked_queries": 19965,
          "f1": 0.9468513502956378,
          "iteration": 34,
          "query_length": 4,
          "query_length_cumsum": 19961,
          "query_strong_accuracy_list": 1,
          "recommendation": "Weak Cluster",
          "test_acc": 0.9642935763659578
         },
         {
          "all_unlabeled_roc_auc_scores": 0.49470389201696774,
          "asked_queries": 20003,
          "f1": 0.9468069217200055,
          "iteration": 35,
          "query_length": 38,
          "query_length_cumsum": 19965,
          "query_strong_accuracy_list": 1,
          "recommendation": "Weak Cluster",
          "test_acc": 0.9643219404630651
         },
         {
          "all_unlabeled_roc_auc_scores": 0.4931349692016769,
          "asked_queries": 20005,
          "f1": 0.9467802127467458,
          "iteration": 36,
          "query_length": 2,
          "query_length_cumsum": 20003,
          "query_strong_accuracy_list": 1,
          "recommendation": "Weak Cluster",
          "test_acc": 0.9642746879548362
         },
         {
          "all_unlabeled_roc_auc_scores": 0.4985662034113659,
          "asked_queries": 20011,
          "f1": 0.9467882644424896,
          "iteration": 37,
          "query_length": 6,
          "query_length_cumsum": 20005,
          "query_strong_accuracy_list": 1,
          "recommendation": "Weak Cluster",
          "test_acc": 0.9643093483919354
         },
         {
          "all_unlabeled_roc_auc_scores": 0.4942463692391375,
          "asked_queries": 20012,
          "f1": 0.946741825003132,
          "iteration": 38,
          "query_length": 1,
          "query_length_cumsum": 20011,
          "query_strong_accuracy_list": 1,
          "recommendation": "Weak Cluster",
          "test_acc": 0.964219535868702
         },
         {
          "all_unlabeled_roc_auc_scores": 0.49367536082545405,
          "asked_queries": 20027,
          "f1": 0.9467067750526732,
          "iteration": 39,
          "query_length": 15,
          "query_length_cumsum": 20012,
          "query_strong_accuracy_list": 1,
          "recommendation": "Weak Cluster",
          "test_acc": 0.9641958412432122
         },
         {
          "all_unlabeled_roc_auc_scores": 0.49129929314397136,
          "asked_queries": 20028,
          "f1": 0.9467044367491788,
          "iteration": 40,
          "query_length": 1,
          "query_length_cumsum": 20027,
          "query_strong_accuracy_list": 1,
          "recommendation": "Weak Cluster",
          "test_acc": 0.9641942604856513
         },
         {
          "all_unlabeled_roc_auc_scores": 0.495346281756974,
          "asked_queries": 20029,
          "f1": 0.9467020982405151,
          "iteration": 41,
          "query_length": 1,
          "query_length_cumsum": 20028,
          "query_strong_accuracy_list": 1,
          "recommendation": "Weak Cluster",
          "test_acc": 0.9641926795885029
         },
         {
          "all_unlabeled_roc_auc_scores": 0.49065157609761006,
          "asked_queries": 20032,
          "f1": 0.9466950814832393,
          "iteration": 42,
          "query_length": 3,
          "query_length_cumsum": 20029,
          "query_strong_accuracy_list": 1,
          "recommendation": "Weak Cluster",
          "test_acc": 0.9641879360593483
         },
         {
          "all_unlabeled_roc_auc_scores": 0.49490445236102093,
          "asked_queries": 20033,
          "f1": 0.9466927421536291,
          "iteration": 43,
          "query_length": 1,
          "query_length_cumsum": 20032,
          "query_strong_accuracy_list": 1,
          "recommendation": "Weak Cluster",
          "test_acc": 0.9641863546036653
         },
         {
          "all_unlabeled_roc_auc_scores": 0.4925801505146482,
          "asked_queries": 20050,
          "f1": 0.9466971224989811,
          "iteration": 44,
          "query_length": 17,
          "query_length_cumsum": 20033,
          "query_strong_accuracy_list": 1,
          "recommendation": "Weak Cluster",
          "test_acc": 0.9642478345412763
         },
         {
          "all_unlabeled_roc_auc_scores": 0.4913336860928835,
          "asked_queries": 20055,
          "f1": 0.9466412249123293,
          "iteration": 45,
          "query_length": 5,
          "query_length_cumsum": 20050,
          "query_strong_accuracy_list": 1,
          "recommendation": "Weak Cluster",
          "test_acc": 0.964151527206825
         },
         {
          "all_unlabeled_roc_auc_scores": 0.4904523600622144,
          "asked_queries": 20056,
          "f1": 0.9466388808538764,
          "iteration": 46,
          "query_length": 1,
          "query_length_cumsum": 20055,
          "query_strong_accuracy_list": 1,
          "recommendation": "Weak Cluster",
          "test_acc": 0.9641499425338166
         },
         {
          "all_unlabeled_roc_auc_scores": 0.49264757061742126,
          "asked_queries": 20061,
          "f1": 0.9466271574721632,
          "iteration": 47,
          "query_length": 5,
          "query_length_cumsum": 20056,
          "query_strong_accuracy_list": 1,
          "recommendation": "Weak Cluster",
          "test_acc": 0.9641420170668081
         },
         {
          "all_unlabeled_roc_auc_scores": 0.4921979258224588,
          "asked_queries": 20064,
          "f1": 0.9466201209706,
          "iteration": 48,
          "query_length": 3,
          "query_length_cumsum": 20061,
          "query_strong_accuracy_list": 1,
          "recommendation": "Weak Cluster",
          "test_acc": 0.9641372601043602
         },
         {
          "all_unlabeled_roc_auc_scores": 0.4953434554959556,
          "asked_queries": 20069,
          "f1": 0.946673922003455,
          "iteration": 49,
          "query_length": 5,
          "query_length_cumsum": 20064,
          "query_strong_accuracy_list": 0.8,
          "recommendation": "Weak Cluster",
          "test_acc": 0.9641735592020877
         },
         {
          "all_unlabeled_roc_auc_scores": 0.4930738890400486,
          "asked_queries": 20073,
          "f1": 0.9466645444382671,
          "iteration": 50,
          "query_length": 4,
          "query_length_cumsum": 20069,
          "query_strong_accuracy_list": 1,
          "recommendation": "Weak Cluster",
          "test_acc": 0.9641672196416722
         },
         {
          "all_unlabeled_roc_auc_scores": 0.49461398793741407,
          "asked_queries": 20081,
          "f1": 0.9466457794114799,
          "iteration": 51,
          "query_length": 8,
          "query_length_cumsum": 20073,
          "query_strong_accuracy_list": 1,
          "recommendation": "Weak Cluster",
          "test_acc": 0.9641545337876709
         },
         {
          "all_unlabeled_roc_auc_scores": 0.49466166387205074,
          "asked_queries": 20099,
          "f1": 0.9466035097925197,
          "iteration": 52,
          "query_length": 18,
          "query_length_cumsum": 20081,
          "query_strong_accuracy_list": 1,
          "recommendation": "Weak Cluster",
          "test_acc": 0.9641259577483502
         },
         {
          "all_unlabeled_roc_auc_scores": 0.4925375323476307,
          "asked_queries": 20100,
          "f1": 0.9466011595167749,
          "iteration": 53,
          "query_length": 1,
          "query_length_cumsum": 20099,
          "query_strong_accuracy_list": 1,
          "recommendation": "Weak Cluster",
          "test_acc": 0.9641243688546373
         },
         {
          "all_unlabeled_roc_auc_scores": 0.4914954171182213,
          "asked_queries": 20108,
          "f1": 0.9465823498610384,
          "iteration": 54,
          "query_length": 8,
          "query_length_cumsum": 20100,
          "query_strong_accuracy_list": 1,
          "recommendation": "Weak Cluster",
          "test_acc": 0.9641116526362428
         },
         {
          "all_unlabeled_roc_auc_scores": 0.49564027434088204,
          "asked_queries": 20112,
          "f1": 0.9465729400638081,
          "iteration": 55,
          "query_length": 4,
          "query_length_cumsum": 20108,
          "query_strong_accuracy_list": 1,
          "recommendation": "Weak Cluster",
          "test_acc": 0.9641052911459718
         },
         {
          "all_unlabeled_roc_auc_scores": 0.490678770961161,
          "asked_queries": 20113,
          "f1": 0.9465705870965626,
          "iteration": 56,
          "query_length": 1,
          "query_length_cumsum": 20112,
          "query_strong_accuracy_list": 1,
          "recommendation": "Weak Cluster",
          "test_acc": 0.964103700421006
         },
         {
          "all_unlabeled_roc_auc_scores": 0.49178695800614547,
          "asked_queries": 20120,
          "f1": 0.9465541105218701,
          "iteration": 57,
          "query_length": 7,
          "query_length_cumsum": 20113,
          "query_strong_accuracy_list": 1,
          "recommendation": "Weak Cluster",
          "test_acc": 0.9640925613972869
         },
         {
          "all_unlabeled_roc_auc_scores": 0.49329026727392256,
          "asked_queries": 20122,
          "f1": 0.9465494010627168,
          "iteration": 58,
          "query_length": 2,
          "query_length_cumsum": 20120,
          "query_strong_accuracy_list": 1,
          "recommendation": "Weak Cluster",
          "test_acc": 0.9640893775492109
         },
         {
          "all_unlabeled_roc_auc_scores": 0.4980651101875569,
          "asked_queries": 20124,
          "f1": 0.9465446907736571,
          "iteration": 59,
          "query_length": 2,
          "query_length_cumsum": 20122,
          "query_strong_accuracy_list": 1,
          "recommendation": "Weak Cluster",
          "test_acc": 0.9640861931364725
         },
         {
          "all_unlabeled_roc_auc_scores": 0.49527728008487215,
          "asked_queries": 20125,
          "f1": 0.9465423353178439,
          "iteration": 60,
          "query_length": 1,
          "query_length_cumsum": 20124,
          "query_strong_accuracy_list": 1,
          "recommendation": "Weak Cluster",
          "test_acc": 0.964084600718308
         },
         {
          "all_unlabeled_roc_auc_scores": 0.490813021420801,
          "asked_queries": 20127,
          "f1": 0.9465376237835138,
          "iteration": 61,
          "query_length": 2,
          "query_length_cumsum": 20125,
          "query_strong_accuracy_list": 1,
          "recommendation": "Weak Cluster",
          "test_acc": 0.9640814154582945
         },
         {
          "all_unlabeled_roc_auc_scores": 0.4907714149554041,
          "asked_queries": 20128,
          "f1": 0.9465574347763814,
          "iteration": 62,
          "query_length": 1,
          "query_length_cumsum": 20127,
          "query_strong_accuracy_list": 1,
          "recommendation": "Weak Cluster",
          "test_acc": 0.9641241685144124
         },
         {
          "all_unlabeled_roc_auc_scores": 0.49531510447502897,
          "asked_queries": 20130,
          "f1": 0.9465305549248476,
          "iteration": 63,
          "query_length": 2,
          "query_length_cumsum": 20128,
          "query_strong_accuracy_list": 1,
          "recommendation": "Weak Cluster",
          "test_acc": 0.9640766365087813
         },
         {
          "all_unlabeled_roc_auc_scores": 0.4903286127637558,
          "asked_queries": 20131,
          "f1": 0.9465281982232703,
          "iteration": 64,
          "query_length": 1,
          "query_length_cumsum": 20130,
          "query_strong_accuracy_list": 1,
          "recommendation": "Weak Cluster",
          "test_acc": 0.9640750432430035
         },
         {
          "all_unlabeled_roc_auc_scores": 0.49698417103291964,
          "asked_queries": 20133,
          "f1": 0.9465234841969179,
          "iteration": 65,
          "query_length": 2,
          "query_length_cumsum": 20131,
          "query_strong_accuracy_list": 1,
          "recommendation": "Weak Cluster",
          "test_acc": 0.9640718562874252
         },
         {
          "all_unlabeled_roc_auc_scores": 0.4955537862815506,
          "asked_queries": 20150,
          "f1": 0.9465713364291761,
          "iteration": 66,
          "query_length": 17,
          "query_length_cumsum": 20133,
          "query_strong_accuracy_list": 0.9411764705882353,
          "recommendation": "Weak Cluster",
          "test_acc": 0.9641335227272727
         },
         {
          "all_unlabeled_roc_auc_scores": 0.4964982778513871,
          "asked_queries": 20152,
          "f1": 0.9465666222317807,
          "iteration": 67,
          "query_length": 2,
          "query_length_cumsum": 20150,
          "query_strong_accuracy_list": 1,
          "recommendation": "Weak Cluster",
          "test_acc": 0.9641303382757702
         },
         {
          "all_unlabeled_roc_auc_scores": 0.4938317144636334,
          "asked_queries": 20153,
          "f1": 0.9465420731433655,
          "iteration": 68,
          "query_length": 1,
          "query_length_cumsum": 20152,
          "query_strong_accuracy_list": 1,
          "recommendation": "Weak Cluster",
          "test_acc": 0.9640843507214206
         },
         {
          "all_unlabeled_roc_auc_scores": 0.49482758945397354,
          "asked_queries": 20158,
          "f1": 0.94653027804575,
          "iteration": 69,
          "query_length": 5,
          "query_length_cumsum": 20153,
          "query_strong_accuracy_list": 1,
          "recommendation": "Weak Cluster",
          "test_acc": 0.9640763765541741
         },
         {
          "all_unlabeled_roc_auc_scores": 0.4963231672200352,
          "asked_queries": 20161,
          "f1": 0.9465675965997524,
          "iteration": 70,
          "query_length": 3,
          "query_length_cumsum": 20158,
          "query_strong_accuracy_list": 1,
          "recommendation": "Weak Cluster",
          "test_acc": 0.964160412133055
         },
         {
          "all_unlabeled_roc_auc_scores": 0.4929129530353245,
          "asked_queries": 20174,
          "f1": 0.9465147111101816,
          "iteration": 71,
          "query_length": 13,
          "query_length_cumsum": 20161,
          "query_strong_accuracy_list": 1,
          "recommendation": "Weak Cluster",
          "test_acc": 0.964095271951653
         },
         {
          "all_unlabeled_roc_auc_scores": 0.4970297504803953,
          "asked_queries": 20179,
          "f1": 0.9465465327915155,
          "iteration": 72,
          "query_length": 5,
          "query_length_cumsum": 20174,
          "query_strong_accuracy_list": 0.8,
          "recommendation": "Weak Cluster",
          "test_acc": 0.9640872927685675
         },
         {
          "all_unlabeled_roc_auc_scores": 0.4930975914094412,
          "asked_queries": 20180,
          "f1": 0.9465886072777766,
          "iteration": 73,
          "query_length": 1,
          "query_length_cumsum": 20179,
          "query_strong_accuracy_list": 1,
          "recommendation": "Weak Cluster",
          "test_acc": 0.964174593297182
         },
         {
          "all_unlabeled_roc_auc_scores": 0.4936479744470643,
          "asked_queries": 20182,
          "f1": 0.9465394487657844,
          "iteration": 74,
          "query_length": 2,
          "query_length_cumsum": 20180,
          "query_strong_accuracy_list": 1,
          "recommendation": "Weak Cluster",
          "test_acc": 0.9640825035561877
         },
         {
          "all_unlabeled_roc_auc_scores": 0.4935301028723686,
          "asked_queries": 20192,
          "f1": 0.9465158217819888,
          "iteration": 75,
          "query_length": 10,
          "query_length_cumsum": 20182,
          "query_strong_accuracy_list": 1,
          "recommendation": "Weak Cluster",
          "test_acc": 0.964066530285511
         },
         {
          "all_unlabeled_roc_auc_scores": 0.49665608828783203,
          "asked_queries": 20196,
          "f1": 0.9465285992561212,
          "iteration": 76,
          "query_length": 4,
          "query_length_cumsum": 20192,
          "query_strong_accuracy_list": 1,
          "recommendation": "Weak Cluster",
          "test_acc": 0.9641046170269549
         },
         {
          "all_unlabeled_roc_auc_scores": 0.49199983442899137,
          "asked_queries": 20201,
          "f1": 0.9464945396364347,
          "iteration": 77,
          "query_length": 5,
          "query_length_cumsum": 20196,
          "query_strong_accuracy_list": 1,
          "recommendation": "Weak Cluster",
          "test_acc": 0.964052142189794
         },
         {
          "all_unlabeled_roc_auc_scores": 0.49679014746550326,
          "asked_queries": 20206,
          "f1": 0.9465049529067129,
          "iteration": 78,
          "query_length": 5,
          "query_length_cumsum": 20201,
          "query_strong_accuracy_list": 1,
          "recommendation": "Weak Cluster",
          "test_acc": 0.9640886436454255
         },
         {
          "all_unlabeled_roc_auc_scores": 0.49742980526670416,
          "asked_queries": 20210,
          "f1": 0.9464954885109061,
          "iteration": 79,
          "query_length": 4,
          "query_length_cumsum": 20206,
          "query_strong_accuracy_list": 1,
          "recommendation": "Weak Cluster",
          "test_acc": 0.9640822503115543
         },
         {
          "all_unlabeled_roc_auc_scores": 0.4950800330668545,
          "asked_queries": 20224,
          "f1": 0.9464623367407438,
          "iteration": 80,
          "query_length": 14,
          "query_length_cumsum": 20210,
          "query_strong_accuracy_list": 1,
          "recommendation": "Weak Cluster",
          "test_acc": 0.9640598557049969
         },
         {
          "all_unlabeled_roc_auc_scores": 0.4956215458482777,
          "asked_queries": 20225,
          "f1": 0.9464599671853144,
          "iteration": 81,
          "query_length": 1,
          "query_length_cumsum": 20224,
          "query_strong_accuracy_list": 1,
          "recommendation": "Weak Cluster",
          "test_acc": 0.9640582550216007
         },
         {
          "all_unlabeled_roc_auc_scores": 0.4990537724596482,
          "asked_queries": 20228,
          "f1": 0.9464305914723355,
          "iteration": 82,
          "query_length": 3,
          "query_length_cumsum": 20225,
          "query_strong_accuracy_list": 1,
          "recommendation": "Weak Cluster",
          "test_acc": 0.9640089086859688
         },
         {
          "all_unlabeled_roc_auc_scores": 0.4948578781625449,
          "asked_queries": 20229,
          "f1": 0.946428220086595,
          "iteration": 83,
          "query_length": 1,
          "query_length_cumsum": 20228,
          "query_strong_accuracy_list": 1,
          "recommendation": "Weak Cluster",
          "test_acc": 0.9640073054479041
         },
         {
          "all_unlabeled_roc_auc_scores": 0.495045332770142,
          "asked_queries": 20230,
          "f1": 0.946425848490927,
          "iteration": 84,
          "query_length": 1,
          "query_length_cumsum": 20229,
          "query_strong_accuracy_list": 1,
          "recommendation": "Weak Cluster",
          "test_acc": 0.9640057020669993
         },
         {
          "all_unlabeled_roc_auc_scores": 0.4929868885407243,
          "asked_queries": 20239,
          "f1": 0.9464267713751979,
          "iteration": 85,
          "query_length": 9,
          "query_length_cumsum": 20230,
          "query_strong_accuracy_list": 1,
          "recommendation": "Weak Cluster",
          "test_acc": 0.9640358304737288
         },
         {
          "all_unlabeled_roc_auc_scores": 0.4965252399292369,
          "asked_queries": 20246,
          "f1": 0.946387874387338,
          "iteration": 86,
          "query_length": 7,
          "query_length_cumsum": 20239,
          "query_strong_accuracy_list": 1,
          "recommendation": "Weak Cluster",
          "test_acc": 0.9639800285306704
         },
         {
          "all_unlabeled_roc_auc_scores": 0.4957891553404967,
          "asked_queries": 20252,
          "f1": 0.9463736202181028,
          "iteration": 87,
          "query_length": 6,
          "query_length_cumsum": 20246,
          "query_strong_accuracy_list": 1,
          "recommendation": "Weak Cluster",
          "test_acc": 0.9639703915098546
         },
         {
          "all_unlabeled_roc_auc_scores": 0.49785010515315914,
          "asked_queries": 20254,
          "f1": 0.9463688671440972,
          "iteration": 88,
          "query_length": 2,
          "query_length_cumsum": 20252,
          "query_strong_accuracy_list": 1,
          "recommendation": "Weak Cluster",
          "test_acc": 0.9639671780235461
         },
         {
          "all_unlabeled_roc_auc_scores": 0.49701338880342555,
          "asked_queries": 20259,
          "f1": 0.9463569807726419,
          "iteration": 89,
          "query_length": 5,
          "query_length_cumsum": 20254,
          "query_strong_accuracy_list": 1,
          "recommendation": "Weak Cluster",
          "test_acc": 0.9639591417993666
         },
         {
          "all_unlabeled_roc_auc_scores": 0.49656291373238426,
          "asked_queries": 20262,
          "f1": 0.9463498464208023,
          "iteration": 90,
          "query_length": 3,
          "query_length_cumsum": 20259,
          "query_strong_accuracy_list": 1,
          "recommendation": "Weak Cluster",
          "test_acc": 0.96395431834404
         },
         {
          "all_unlabeled_roc_auc_scores": 0.4959520358868186,
          "asked_queries": 20273,
          "f1": 0.946434415699196,
          "iteration": 91,
          "query_length": 11,
          "query_length_cumsum": 20262,
          "query_strong_accuracy_list": 0.9090909090909091,
          "recommendation": "Weak Cluster",
          "test_acc": 0.9640705199732202
         },
         {
          "all_unlabeled_roc_auc_scores": 0.49506846849074854,
          "asked_queries": 20274,
          "f1": 0.9463874177666046,
          "iteration": 92,
          "query_length": 1,
          "query_length_cumsum": 20273,
          "query_strong_accuracy_list": 1,
          "recommendation": "Weak Cluster",
          "test_acc": 0.9639796464916979
         },
         {
          "all_unlabeled_roc_auc_scores": 0.49570793591999257,
          "asked_queries": 20275,
          "f1": 0.9463850396091861,
          "iteration": 93,
          "query_length": 1,
          "query_length_cumsum": 20274,
          "query_strong_accuracy_list": 1,
          "recommendation": "Weak Cluster",
          "test_acc": 0.9639780386555372
         },
         {
          "all_unlabeled_roc_auc_scores": 0.49575073713903767,
          "asked_queries": 20277,
          "f1": 0.9464249106099848,
          "iteration": 94,
          "query_length": 2,
          "query_length_cumsum": 20275,
          "query_strong_accuracy_list": 1,
          "recommendation": "Weak Cluster",
          "test_acc": 0.9640641042810589
         },
         {
          "all_unlabeled_roc_auc_scores": 0.4930010033505463,
          "asked_queries": 20285,
          "f1": 0.9465820546631365,
          "iteration": 95,
          "query_length": 8,
          "query_length_cumsum": 20277,
          "query_strong_accuracy_list": 0.625,
          "recommendation": "Weak Cluster",
          "test_acc": 0.9641405796454249
         },
         {
          "all_unlabeled_roc_auc_scores": 0.5002669622839613,
          "asked_queries": 20286,
          "f1": 0.9465573604293485,
          "iteration": 96,
          "query_length": 1,
          "query_length_cumsum": 20285,
          "query_strong_accuracy_list": 1,
          "recommendation": "Weak Cluster",
          "test_acc": 0.9640943193997856
         },
         {
          "all_unlabeled_roc_auc_scores": 0.49549670020261116,
          "asked_queries": 20290,
          "f1": 0.9465478714092606,
          "iteration": 97,
          "query_length": 4,
          "query_length_cumsum": 20286,
          "query_strong_accuracy_list": 1,
          "recommendation": "Weak Cluster",
          "test_acc": 0.9640879042344113
         },
         {
          "all_unlabeled_roc_auc_scores": 0.4938717467547298,
          "asked_queries": 20300,
          "f1": 0.946546471571327,
          "iteration": 98,
          "query_length": 10,
          "query_length_cumsum": 20290,
          "query_strong_accuracy_list": 1,
          "recommendation": "Weak Cluster",
          "test_acc": 0.9641165430333363
         },
         {
          "all_unlabeled_roc_auc_scores": 0.5031661287106683,
          "asked_queries": 20301,
          "f1": 0.9465440976798575,
          "iteration": 99,
          "query_length": 1,
          "query_length_cumsum": 20300,
          "query_strong_accuracy_list": 1,
          "recommendation": "Weak Cluster",
          "test_acc": 0.9641149394467534
         },
         {
          "all_unlabeled_roc_auc_scores": 0.4963839416385792,
          "asked_queries": 20304,
          "f1": 0.9465369747403707,
          "iteration": 100,
          "query_length": 3,
          "query_length_cumsum": 20301,
          "query_strong_accuracy_list": 1,
          "recommendation": "Weak Cluster",
          "test_acc": 0.9641101278269419
         },
         {
          "all_unlabeled_roc_auc_scores": 0.5061581095938873,
          "asked_queries": 20306,
          "f1": 0.9465322250595335,
          "iteration": 101,
          "query_length": 2,
          "query_length_cumsum": 20304,
          "query_strong_accuracy_list": 1,
          "recommendation": "Weak Cluster",
          "test_acc": 0.96410691936349
         },
         {
          "all_unlabeled_roc_auc_scores": 0.49790224457402493,
          "asked_queries": 20308,
          "f1": 0.9465051290925541,
          "iteration": 102,
          "query_length": 2,
          "query_length_cumsum": 20306,
          "query_strong_accuracy_list": 1,
          "recommendation": "Weak Cluster",
          "test_acc": 0.9640590075994636
         },
         {
          "all_unlabeled_roc_auc_scores": 0.49570369758822674,
          "asked_queries": 20309,
          "f1": 0.9465250989559469,
          "iteration": 103,
          "query_length": 1,
          "query_length_cumsum": 20308,
          "query_strong_accuracy_list": 1,
          "recommendation": "Weak Cluster",
          "test_acc": 0.9641021055925612
         },
         {
          "all_unlabeled_roc_auc_scores": 0.4962215664178298,
          "asked_queries": 20311,
          "f1": 0.9464979987274551,
          "iteration": 104,
          "query_length": 2,
          "query_length_cumsum": 20309,
          "query_strong_accuracy_list": 1,
          "recommendation": "Weak Cluster",
          "test_acc": 0.9640541869718782
         },
         {
          "all_unlabeled_roc_auc_scores": 0.49900325764574316,
          "asked_queries": 21338,
          "f1": 0.9459994951556163,
          "iteration": 105,
          "query_length": 1027,
          "query_length_cumsum": 20311,
          "query_strong_accuracy_list": 0.9717624148003895,
          "recommendation": "Weak Certainty",
          "test_acc": 0.9637769447047797
         },
         {
          "all_unlabeled_roc_auc_scores": 0.49955250876268864,
          "asked_queries": 21339,
          "f1": 0.9459969804994358,
          "iteration": 106,
          "query_length": 1,
          "query_length_cumsum": 21338,
          "query_strong_accuracy_list": 1,
          "recommendation": "Weak Cluster",
          "test_acc": 0.9637752471999625
         }
        ],
        "data-4d66fabd07f3f2769c9bf0d581abcd96": [
         {
          "all_unlabeled_roc_auc_scores": 0.5166603077535694,
          "asked_queries": 2,
          "f1": 0.4970389461026275,
          "iteration": 0,
          "query_length": 2,
          "query_length_cumsum": 0,
          "query_strong_accuracy_list": null,
          "recommendation": "Ground Truth",
          "test_acc": 0.5739382239382239
         },
         {
          "all_unlabeled_roc_auc_scores": 0.7034384207485611,
          "asked_queries": 12,
          "f1": 0.5413234974804045,
          "iteration": 1,
          "query_length": 10,
          "query_length_cumsum": 2,
          "query_strong_accuracy_list": null,
          "recommendation": "Oracle",
          "test_acc": 0.6040560115886046
         },
         {
          "all_unlabeled_roc_auc_scores": 0.9239163637537307,
          "asked_queries": 22,
          "f1": 0.8346292223952302,
          "iteration": 2,
          "query_length": 10,
          "query_length_cumsum": 12,
          "query_strong_accuracy_list": null,
          "recommendation": "Oracle",
          "test_acc": 0.8386956521739131
         },
         {
          "all_unlabeled_roc_auc_scores": 0.9550451738545971,
          "asked_queries": 32,
          "f1": 0.9018967566101151,
          "iteration": 3,
          "query_length": 10,
          "query_length_cumsum": 22,
          "query_strong_accuracy_list": null,
          "recommendation": "Oracle",
          "test_acc": 0.9022716288061866
         },
         {
          "all_unlabeled_roc_auc_scores": 0.9563578722119288,
          "asked_queries": 42,
          "f1": 0.8985950158967292,
          "iteration": 4,
          "query_length": 10,
          "query_length_cumsum": 32,
          "query_strong_accuracy_list": null,
          "recommendation": "Oracle",
          "test_acc": 0.8981624758220503
         },
         {
          "all_unlabeled_roc_auc_scores": 0.959713914224978,
          "asked_queries": 52,
          "f1": 0.9113216123712535,
          "iteration": 5,
          "query_length": 10,
          "query_length_cumsum": 42,
          "query_strong_accuracy_list": null,
          "recommendation": "Oracle",
          "test_acc": 0.9110788582486695
         },
         {
          "all_unlabeled_roc_auc_scores": 0.9586659105354984,
          "asked_queries": 62,
          "f1": 0.9147387310915526,
          "iteration": 6,
          "query_length": 10,
          "query_length_cumsum": 52,
          "query_strong_accuracy_list": null,
          "recommendation": "Oracle",
          "test_acc": 0.9143272023233301
         },
         {
          "all_unlabeled_roc_auc_scores": 0.9608943488689669,
          "asked_queries": 72,
          "f1": 0.8982360463243979,
          "iteration": 7,
          "query_length": 10,
          "query_length_cumsum": 62,
          "query_strong_accuracy_list": null,
          "recommendation": "Oracle",
          "test_acc": 0.8991767554479418
         },
         {
          "all_unlabeled_roc_auc_scores": 0.960580602604354,
          "asked_queries": 3938,
          "f1": 0.8587478205113498,
          "iteration": 8,
          "query_length": 3866,
          "query_length_cumsum": 72,
          "query_strong_accuracy_list": 0.9813760993274703,
          "recommendation": "Weak Certainty",
          "test_acc": 0.862428503336511
         },
         {
          "all_unlabeled_roc_auc_scores": 0.9495948075148115,
          "asked_queries": 3955,
          "f1": 0.7871837729973157,
          "iteration": 9,
          "query_length": 17,
          "query_length_cumsum": 3938,
          "query_strong_accuracy_list": 0.23529411764705882,
          "recommendation": "Weak Cluster",
          "test_acc": 0.7973996540824239
         },
         {
          "all_unlabeled_roc_auc_scores": 0.9721380778603147,
          "asked_queries": 3965,
          "f1": 0.9280237006296103,
          "iteration": 10,
          "query_length": 10,
          "query_length_cumsum": 3955,
          "query_strong_accuracy_list": null,
          "recommendation": "Oracle",
          "test_acc": 0.928149430088918
         },
         {
          "all_unlabeled_roc_auc_scores": 0.9760930588367007,
          "asked_queries": 3975,
          "f1": 0.9373284478397453,
          "iteration": 11,
          "query_length": 10,
          "query_length_cumsum": 3965,
          "query_strong_accuracy_list": null,
          "recommendation": "Oracle",
          "test_acc": 0.9372424911924524
         },
         {
          "all_unlabeled_roc_auc_scores": 0.9799257424572512,
          "asked_queries": 3985,
          "f1": 0.9464673714231364,
          "iteration": 12,
          "query_length": 10,
          "query_length_cumsum": 3975,
          "query_strong_accuracy_list": null,
          "recommendation": "Oracle",
          "test_acc": 0.9464061659795663
         },
         {
          "all_unlabeled_roc_auc_scores": 0.9787571407939624,
          "asked_queries": 3995,
          "f1": 0.9437126149922741,
          "iteration": 13,
          "query_length": 10,
          "query_length_cumsum": 3985,
          "query_strong_accuracy_list": null,
          "recommendation": "Oracle",
          "test_acc": 0.9436838644108327
         },
         {
          "all_unlabeled_roc_auc_scores": 0.9791972187836673,
          "asked_queries": 4005,
          "f1": 0.9462688246888331,
          "iteration": 14,
          "query_length": 10,
          "query_length_cumsum": 3995,
          "query_strong_accuracy_list": null,
          "recommendation": "Oracle",
          "test_acc": 0.9462822276724293
         },
         {
          "all_unlabeled_roc_auc_scores": 0.9810691971821206,
          "asked_queries": 4015,
          "f1": 0.946911772031434,
          "iteration": 15,
          "query_length": 10,
          "query_length_cumsum": 4005,
          "query_strong_accuracy_list": null,
          "recommendation": "Oracle",
          "test_acc": 0.9469683366253666
         },
         {
          "all_unlabeled_roc_auc_scores": 0.9817374892809358,
          "asked_queries": 4025,
          "f1": 0.9529775791836209,
          "iteration": 16,
          "query_length": 10,
          "query_length_cumsum": 4015,
          "query_strong_accuracy_list": null,
          "recommendation": "Oracle",
          "test_acc": 0.9529855662693897
         },
         {
          "all_unlabeled_roc_auc_scores": 0.9815029276132146,
          "asked_queries": 4035,
          "f1": 0.9559310551819261,
          "iteration": 17,
          "query_length": 10,
          "query_length_cumsum": 4025,
          "query_strong_accuracy_list": null,
          "recommendation": "Oracle",
          "test_acc": 0.9559537364415414
         },
         {
          "all_unlabeled_roc_auc_scores": 0.9813324529037075,
          "asked_queries": 4045,
          "f1": 0.9545221512879692,
          "iteration": 18,
          "query_length": 10,
          "query_length_cumsum": 4035,
          "query_strong_accuracy_list": null,
          "recommendation": "Oracle",
          "test_acc": 0.9545481801283204
         },
         {
          "all_unlabeled_roc_auc_scores": 0.9819783125309509,
          "asked_queries": 4055,
          "f1": 0.9567175413635076,
          "iteration": 19,
          "query_length": 10,
          "query_length_cumsum": 4045,
          "query_strong_accuracy_list": null,
          "recommendation": "Oracle",
          "test_acc": 0.9567408651826963
         },
         {
          "all_unlabeled_roc_auc_scores": 0.9830520574562274,
          "asked_queries": 4065,
          "f1": 0.9599125031683835,
          "iteration": 20,
          "query_length": 10,
          "query_length_cumsum": 4055,
          "query_strong_accuracy_list": null,
          "recommendation": "Oracle",
          "test_acc": 0.9599567749294591
         },
         {
          "all_unlabeled_roc_auc_scores": 0.9829982867516225,
          "asked_queries": 4075,
          "f1": 0.9582489448249146,
          "iteration": 21,
          "query_length": 10,
          "query_length_cumsum": 4065,
          "query_strong_accuracy_list": null,
          "recommendation": "Oracle",
          "test_acc": 0.9583108067519673
         },
         {
          "all_unlabeled_roc_auc_scores": 0.9834698766947614,
          "asked_queries": 4085,
          "f1": 0.9585909912476547,
          "iteration": 22,
          "query_length": 10,
          "query_length_cumsum": 4075,
          "query_strong_accuracy_list": null,
          "recommendation": "Oracle",
          "test_acc": 0.9586463905752239
         },
         {
          "all_unlabeled_roc_auc_scores": 0.9831513190565688,
          "asked_queries": 4095,
          "f1": 0.9597107249358641,
          "iteration": 23,
          "query_length": 10,
          "query_length_cumsum": 4085,
          "query_strong_accuracy_list": null,
          "recommendation": "Oracle",
          "test_acc": 0.9597642388885548
         },
         {
          "all_unlabeled_roc_auc_scores": 0.9832365172449509,
          "asked_queries": 4105,
          "f1": 0.9607824162242711,
          "iteration": 24,
          "query_length": 10,
          "query_length_cumsum": 4095,
          "query_strong_accuracy_list": null,
          "recommendation": "Oracle",
          "test_acc": 0.9608232532948185
         },
         {
          "all_unlabeled_roc_auc_scores": 0.9838283519139411,
          "asked_queries": 4115,
          "f1": 0.9609295777767505,
          "iteration": 25,
          "query_length": 10,
          "query_length_cumsum": 4105,
          "query_strong_accuracy_list": null,
          "recommendation": "Oracle",
          "test_acc": 0.9609803095080388
         },
         {
          "all_unlabeled_roc_auc_scores": 0.9826366765641612,
          "asked_queries": 4125,
          "f1": 0.9602997812577093,
          "iteration": 26,
          "query_length": 10,
          "query_length_cumsum": 4115,
          "query_strong_accuracy_list": null,
          "recommendation": "Oracle",
          "test_acc": 0.9603542808941375
         },
         {
          "all_unlabeled_roc_auc_scores": 0.9841438787286695,
          "asked_queries": 4135,
          "f1": 0.9611743434616077,
          "iteration": 27,
          "query_length": 10,
          "query_length_cumsum": 4125,
          "query_strong_accuracy_list": null,
          "recommendation": "Oracle",
          "test_acc": 0.9612347018749623
         },
         {
          "all_unlabeled_roc_auc_scores": 0.9846676218649555,
          "asked_queries": 4145,
          "f1": 0.9605553153851267,
          "iteration": 28,
          "query_length": 10,
          "query_length_cumsum": 4135,
          "query_strong_accuracy_list": null,
          "recommendation": "Oracle",
          "test_acc": 0.9606080714242625
         },
         {
          "all_unlabeled_roc_auc_scores": 0.9848775242440273,
          "asked_queries": 4155,
          "f1": 0.9626251547631227,
          "iteration": 29,
          "query_length": 10,
          "query_length_cumsum": 4145,
          "query_strong_accuracy_list": null,
          "recommendation": "Oracle",
          "test_acc": 0.9626969276272107
         },
         {
          "all_unlabeled_roc_auc_scores": 0.9849830194425271,
          "asked_queries": 4165,
          "f1": 0.9648331399020487,
          "iteration": 30,
          "query_length": 10,
          "query_length_cumsum": 4155,
          "query_strong_accuracy_list": null,
          "recommendation": "Oracle",
          "test_acc": 0.9649091018904391
         },
         {
          "all_unlabeled_roc_auc_scores": 0.9851985592296069,
          "asked_queries": 4175,
          "f1": 0.965471339163502,
          "iteration": 31,
          "query_length": 10,
          "query_length_cumsum": 4165,
          "query_strong_accuracy_list": null,
          "recommendation": "Oracle",
          "test_acc": 0.96555266815737
         },
         {
          "all_unlabeled_roc_auc_scores": 0.9856864135306083,
          "asked_queries": 4185,
          "f1": 0.9658741002375315,
          "iteration": 32,
          "query_length": 10,
          "query_length_cumsum": 4175,
          "query_strong_accuracy_list": null,
          "recommendation": "Oracle",
          "test_acc": 0.9659551309185463
         },
         {
          "all_unlabeled_roc_auc_scores": 0.9854151023336958,
          "asked_queries": 4195,
          "f1": 0.9659747607824027,
          "iteration": 33,
          "query_length": 10,
          "query_length_cumsum": 4185,
          "query_strong_accuracy_list": null,
          "recommendation": "Oracle",
          "test_acc": 0.9660555454710473
         },
         {
          "all_unlabeled_roc_auc_scores": 0.9855261864721427,
          "asked_queries": 4205,
          "f1": 0.9663190611194681,
          "iteration": 34,
          "query_length": 10,
          "query_length_cumsum": 4195,
          "query_strong_accuracy_list": null,
          "recommendation": "Oracle",
          "test_acc": 0.9663982563419508
         },
         {
          "all_unlabeled_roc_auc_scores": 0.9849178934915944,
          "asked_queries": 4215,
          "f1": 0.9668515451265679,
          "iteration": 35,
          "query_length": 10,
          "query_length_cumsum": 4205,
          "query_strong_accuracy_list": null,
          "recommendation": "Oracle",
          "test_acc": 0.9669231235233537
         },
         {
          "all_unlabeled_roc_auc_scores": 0.9842436186114842,
          "asked_queries": 4225,
          "f1": 0.966710673131788,
          "iteration": 36,
          "query_length": 10,
          "query_length_cumsum": 4215,
          "query_strong_accuracy_list": null,
          "recommendation": "Oracle",
          "test_acc": 0.9667818391222647
         },
         {
          "all_unlabeled_roc_auc_scores": 0.9855560763360685,
          "asked_queries": 4235,
          "f1": 0.9664452763254908,
          "iteration": 37,
          "query_length": 10,
          "query_length_cumsum": 4225,
          "query_strong_accuracy_list": null,
          "recommendation": "Oracle",
          "test_acc": 0.9665190756353491
         },
         {
          "all_unlabeled_roc_auc_scores": 0.985873864339864,
          "asked_queries": 4245,
          "f1": 0.9668451340494811,
          "iteration": 38,
          "query_length": 10,
          "query_length_cumsum": 4235,
          "query_strong_accuracy_list": null,
          "recommendation": "Oracle",
          "test_acc": 0.9669235904594283
         },
         {
          "all_unlabeled_roc_auc_scores": 0.9864491119367619,
          "asked_queries": 4255,
          "f1": 0.9717303633931885,
          "iteration": 39,
          "query_length": 10,
          "query_length_cumsum": 4245,
          "query_strong_accuracy_list": null,
          "recommendation": "Oracle",
          "test_acc": 0.9717617052286391
         },
         {
          "all_unlabeled_roc_auc_scores": 0.9872541489347423,
          "asked_queries": 4265,
          "f1": 0.9723207614089621,
          "iteration": 40,
          "query_length": 10,
          "query_length_cumsum": 4255,
          "query_strong_accuracy_list": null,
          "recommendation": "Oracle",
          "test_acc": 0.9723521905572097
         },
         {
          "all_unlabeled_roc_auc_scores": 0.9866659029845127,
          "asked_queries": 4275,
          "f1": 0.9721849539527699,
          "iteration": 41,
          "query_length": 10,
          "query_length_cumsum": 4265,
          "query_strong_accuracy_list": null,
          "recommendation": "Oracle",
          "test_acc": 0.9722137775886179
         },
         {
          "all_unlabeled_roc_auc_scores": 0.9871267536892604,
          "asked_queries": 4285,
          "f1": 0.9719209510722345,
          "iteration": 42,
          "query_length": 10,
          "query_length_cumsum": 4275,
          "query_strong_accuracy_list": null,
          "recommendation": "Oracle",
          "test_acc": 0.971953519498692
         },
         {
          "all_unlabeled_roc_auc_scores": 0.9874125291607816,
          "asked_queries": 4295,
          "f1": 0.9729988852265098,
          "iteration": 43,
          "query_length": 10,
          "query_length_cumsum": 4285,
          "query_strong_accuracy_list": null,
          "recommendation": "Oracle",
          "test_acc": 0.9730322030802946
         },
         {
          "all_unlabeled_roc_auc_scores": 0.9870915096024514,
          "asked_queries": 4305,
          "f1": 0.9723739112299413,
          "iteration": 44,
          "query_length": 10,
          "query_length_cumsum": 4295,
          "query_strong_accuracy_list": null,
          "recommendation": "Oracle",
          "test_acc": 0.972406651641591
         },
         {
          "all_unlabeled_roc_auc_scores": 0.9870486317444845,
          "asked_queries": 4432,
          "f1": 0.9728967579058199,
          "iteration": 45,
          "query_length": 127,
          "query_length_cumsum": 4305,
          "query_strong_accuracy_list": 0.9291338582677166,
          "recommendation": "Weak Cluster",
          "test_acc": 0.9729281767955801
         },
         {
          "all_unlabeled_roc_auc_scores": 0.9867559623372218,
          "asked_queries": 4588,
          "f1": 0.9696967142691592,
          "iteration": 46,
          "query_length": 156,
          "query_length_cumsum": 4432,
          "query_strong_accuracy_list": 0.7756410256410257,
          "recommendation": "Weak Cluster",
          "test_acc": 0.9697533159786785
         },
         {
          "all_unlabeled_roc_auc_scores": 0.9866107665524722,
          "asked_queries": 4598,
          "f1": 0.9693697276974363,
          "iteration": 47,
          "query_length": 10,
          "query_length_cumsum": 4588,
          "query_strong_accuracy_list": null,
          "recommendation": "Oracle",
          "test_acc": 0.9694244604316546
         },
         {
          "all_unlabeled_roc_auc_scores": 0.9867363453179405,
          "asked_queries": 4608,
          "f1": 0.9699668935483761,
          "iteration": 48,
          "query_length": 10,
          "query_length_cumsum": 4598,
          "query_strong_accuracy_list": null,
          "recommendation": "Oracle",
          "test_acc": 0.9700260642919201
         },
         {
          "all_unlabeled_roc_auc_scores": 0.9867950899039077,
          "asked_queries": 4618,
          "f1": 0.9706357185710921,
          "iteration": 49,
          "query_length": 10,
          "query_length_cumsum": 4608,
          "query_strong_accuracy_list": null,
          "recommendation": "Oracle",
          "test_acc": 0.9706905116741182
         },
         {
          "all_unlabeled_roc_auc_scores": 0.9879279316618079,
          "asked_queries": 4628,
          "f1": 0.9704966182511127,
          "iteration": 50,
          "query_length": 10,
          "query_length_cumsum": 4618,
          "query_strong_accuracy_list": null,
          "recommendation": "Oracle",
          "test_acc": 0.9705480303218591
         },
         {
          "all_unlabeled_roc_auc_scores": 0.9873297963162443,
          "asked_queries": 4638,
          "f1": 0.9714739706828932,
          "iteration": 51,
          "query_length": 10,
          "query_length_cumsum": 4628,
          "query_strong_accuracy_list": null,
          "recommendation": "Oracle",
          "test_acc": 0.9715244963939319
         },
         {
          "all_unlabeled_roc_auc_scores": 0.9871985794476982,
          "asked_queries": 4648,
          "f1": 0.9706424999545021,
          "iteration": 52,
          "query_length": 10,
          "query_length_cumsum": 4638,
          "query_strong_accuracy_list": null,
          "recommendation": "Oracle",
          "test_acc": 0.9706980216498694
         },
         {
          "all_unlabeled_roc_auc_scores": 0.9874602125077424,
          "asked_queries": 4658,
          "f1": 0.9715620723385907,
          "iteration": 53,
          "query_length": 10,
          "query_length_cumsum": 4648,
          "query_strong_accuracy_list": null,
          "recommendation": "Oracle",
          "test_acc": 0.9716135458167331
         },
         {
          "all_unlabeled_roc_auc_scores": 0.9874782708018258,
          "asked_queries": 4668,
          "f1": 0.971855947891416,
          "iteration": 54,
          "query_length": 10,
          "query_length_cumsum": 4658,
          "query_strong_accuracy_list": null,
          "recommendation": "Oracle",
          "test_acc": 0.971907312819235
         },
         {
          "all_unlabeled_roc_auc_scores": 0.9878982103436902,
          "asked_queries": 4678,
          "f1": 0.9719661814804017,
          "iteration": 55,
          "query_length": 10,
          "query_length_cumsum": 4668,
          "query_strong_accuracy_list": null,
          "recommendation": "Oracle",
          "test_acc": 0.9720144602343556
         },
         {
          "all_unlabeled_roc_auc_scores": 0.9877243229306975,
          "asked_queries": 4688,
          "f1": 0.9721370854736954,
          "iteration": 56,
          "query_length": 10,
          "query_length_cumsum": 4678,
          "query_strong_accuracy_list": null,
          "recommendation": "Oracle",
          "test_acc": 0.9721841087688662
         },
         {
          "all_unlabeled_roc_auc_scores": 0.987673225939025,
          "asked_queries": 4698,
          "f1": 0.9720547456284909,
          "iteration": 57,
          "query_length": 10,
          "query_length_cumsum": 4688,
          "query_strong_accuracy_list": null,
          "recommendation": "Oracle",
          "test_acc": 0.9721043434847728
         },
         {
          "all_unlabeled_roc_auc_scores": 0.9875684687666282,
          "asked_queries": 4708,
          "f1": 0.972663662852771,
          "iteration": 58,
          "query_length": 10,
          "query_length_cumsum": 4698,
          "query_strong_accuracy_list": null,
          "recommendation": "Oracle",
          "test_acc": 0.9727113775446484
         },
         {
          "all_unlabeled_roc_auc_scores": 0.9876474199611933,
          "asked_queries": 4718,
          "f1": 0.9725862886050318,
          "iteration": 59,
          "query_length": 10,
          "query_length_cumsum": 4708,
          "query_strong_accuracy_list": null,
          "recommendation": "Oracle",
          "test_acc": 0.9726318420394902
         },
         {
          "all_unlabeled_roc_auc_scores": 0.9880940328712581,
          "asked_queries": 4728,
          "f1": 0.9728203196392596,
          "iteration": 60,
          "query_length": 10,
          "query_length_cumsum": 4718,
          "query_strong_accuracy_list": null,
          "recommendation": "Oracle",
          "test_acc": 0.9728648243091159
         },
         {
          "all_unlabeled_roc_auc_scores": 0.9866307560752704,
          "asked_queries": 10125,
          "f1": 0.9661253423947834,
          "iteration": 61,
          "query_length": 5397,
          "query_length_cumsum": 4728,
          "query_strong_accuracy_list": 0.9868445432647768,
          "recommendation": "Weak Certainty",
          "test_acc": 0.9662168538265546
         },
         {
          "all_unlabeled_roc_auc_scores": 0.9870842651287773,
          "asked_queries": 10136,
          "f1": 0.9662831215942221,
          "iteration": 62,
          "query_length": 11,
          "query_length_cumsum": 10125,
          "query_strong_accuracy_list": 0.8181818181818182,
          "recommendation": "Weak Cluster",
          "test_acc": 0.9663706782542981
         },
         {
          "all_unlabeled_roc_auc_scores": 0.9868810955963362,
          "asked_queries": 10139,
          "f1": 0.9660926627726873,
          "iteration": 63,
          "query_length": 3,
          "query_length_cumsum": 10136,
          "query_strong_accuracy_list": 0.6666666666666666,
          "recommendation": "Weak Cluster",
          "test_acc": 0.9661721629027686
         },
         {
          "all_unlabeled_roc_auc_scores": 0.9870394186722897,
          "asked_queries": 10149,
          "f1": 0.964910197916166,
          "iteration": 64,
          "query_length": 10,
          "query_length_cumsum": 10139,
          "query_strong_accuracy_list": null,
          "recommendation": "Oracle",
          "test_acc": 0.965005201929443
         },
         {
          "all_unlabeled_roc_auc_scores": 0.9873470847566493,
          "asked_queries": 10166,
          "f1": 0.9657247056382305,
          "iteration": 65,
          "query_length": 17,
          "query_length_cumsum": 10149,
          "query_strong_accuracy_list": 0.7647058823529411,
          "recommendation": "Weak Cluster",
          "test_acc": 0.965801439939371
         },
         {
          "all_unlabeled_roc_auc_scores": 0.9870393955621651,
          "asked_queries": 10176,
          "f1": 0.9663444384072299,
          "iteration": 66,
          "query_length": 10,
          "query_length_cumsum": 10166,
          "query_strong_accuracy_list": null,
          "recommendation": "Oracle",
          "test_acc": 0.9664327707187559
         },
         {
          "all_unlabeled_roc_auc_scores": 0.9872256123600104,
          "asked_queries": 10186,
          "f1": 0.9657445119290594,
          "iteration": 67,
          "query_length": 10,
          "query_length_cumsum": 10176,
          "query_strong_accuracy_list": null,
          "recommendation": "Oracle",
          "test_acc": 0.9658314350797267
         },
         {
          "all_unlabeled_roc_auc_scores": 0.9873400645815347,
          "asked_queries": 10206,
          "f1": 0.9652825489508385,
          "iteration": 68,
          "query_length": 20,
          "query_length_cumsum": 10186,
          "query_strong_accuracy_list": 0.2,
          "recommendation": "Weak Cluster",
          "test_acc": 0.9653860783567897
         },
         {
          "all_unlabeled_roc_auc_scores": 0.9875633548486246,
          "asked_queries": 10215,
          "f1": 0.966685532663818,
          "iteration": 69,
          "query_length": 9,
          "query_length_cumsum": 10206,
          "query_strong_accuracy_list": null,
          "recommendation": "Oracle",
          "test_acc": 0.9667840487294185
         },
         {
          "all_unlabeled_roc_auc_scores": 0.9867847536273617,
          "asked_queries": 10225,
          "f1": 0.9660657690897002,
          "iteration": 70,
          "query_length": 10,
          "query_length_cumsum": 10215,
          "query_strong_accuracy_list": null,
          "recommendation": "Oracle",
          "test_acc": 0.9661808135657807
         },
         {
          "all_unlabeled_roc_auc_scores": 0.9871558821718271,
          "asked_queries": 10235,
          "f1": 0.9662206808720147,
          "iteration": 71,
          "query_length": 10,
          "query_length_cumsum": 10225,
          "query_strong_accuracy_list": null,
          "recommendation": "Oracle",
          "test_acc": 0.9663392772003433
         },
         {
          "all_unlabeled_roc_auc_scores": 0.9874170175233506,
          "asked_queries": 10245,
          "f1": 0.9660168714393652,
          "iteration": 72,
          "query_length": 10,
          "query_length_cumsum": 10235,
          "query_strong_accuracy_list": null,
          "recommendation": "Oracle",
          "test_acc": 0.9661162546530495
         },
         {
          "all_unlabeled_roc_auc_scores": 0.9875782482164792,
          "asked_queries": 10255,
          "f1": 0.9673270908211872,
          "iteration": 73,
          "query_length": 10,
          "query_length_cumsum": 10245,
          "query_strong_accuracy_list": null,
          "recommendation": "Oracle",
          "test_acc": 0.9674214197000095
         },
         {
          "all_unlabeled_roc_auc_scores": 0.9870130900987532,
          "asked_queries": 10265,
          "f1": 0.9672977282874979,
          "iteration": 74,
          "query_length": 10,
          "query_length_cumsum": 10255,
          "query_strong_accuracy_list": null,
          "recommendation": "Oracle",
          "test_acc": 0.9673902648943291
         },
         {
          "all_unlabeled_roc_auc_scores": 0.9872632074544397,
          "asked_queries": 10266,
          "f1": 0.9674829625178446,
          "iteration": 75,
          "query_length": 1,
          "query_length_cumsum": 10265,
          "query_strong_accuracy_list": null,
          "recommendation": "Oracle",
          "test_acc": 0.9675784238714613
         },
         {
          "all_unlabeled_roc_auc_scores": 0.9870432089541784,
          "asked_queries": 10280,
          "f1": 0.9673495575600305,
          "iteration": 76,
          "query_length": 14,
          "query_length_cumsum": 10266,
          "query_strong_accuracy_list": 0.8571428571428571,
          "recommendation": "Weak Cluster",
          "test_acc": 0.9674391878950392
         },
         {
          "all_unlabeled_roc_auc_scores": 0.9879781186793593,
          "asked_queries": 10290,
          "f1": 0.9673162515576968,
          "iteration": 77,
          "query_length": 10,
          "query_length_cumsum": 10280,
          "query_strong_accuracy_list": null,
          "recommendation": "Oracle",
          "test_acc": 0.9674079754601227
         },
         {
          "all_unlabeled_roc_auc_scores": 0.9885030063886638,
          "asked_queries": 10299,
          "f1": 0.968839040684383,
          "iteration": 78,
          "query_length": 9,
          "query_length_cumsum": 10290,
          "query_strong_accuracy_list": null,
          "recommendation": "Oracle",
          "test_acc": 0.9689148997409575
         },
         {
          "all_unlabeled_roc_auc_scores": 0.9879297834152397,
          "asked_queries": 10309,
          "f1": 0.9675447420229542,
          "iteration": 79,
          "query_length": 10,
          "query_length_cumsum": 10299,
          "query_strong_accuracy_list": null,
          "recommendation": "Oracle",
          "test_acc": 0.9676366080860462
         },
         {
          "all_unlabeled_roc_auc_scores": 0.9880240137673513,
          "asked_queries": 10327,
          "f1": 0.9674889260160374,
          "iteration": 80,
          "query_length": 18,
          "query_length_cumsum": 10309,
          "query_strong_accuracy_list": 1,
          "recommendation": "Weak Cluster",
          "test_acc": 0.9675805675805675
         },
         {
          "all_unlabeled_roc_auc_scores": 0.9879438622720388,
          "asked_queries": 10334,
          "f1": 0.9671784306971466,
          "iteration": 81,
          "query_length": 7,
          "query_length_cumsum": 10327,
          "query_strong_accuracy_list": null,
          "recommendation": "Oracle",
          "test_acc": 0.96726992683866
         },
         {
          "all_unlabeled_roc_auc_scores": 0.9882417493285602,
          "asked_queries": 10341,
          "f1": 0.9676382633466368,
          "iteration": 82,
          "query_length": 7,
          "query_length_cumsum": 10334,
          "query_strong_accuracy_list": 0.42857142857142855,
          "recommendation": "Weak Cluster",
          "test_acc": 0.9677295058279549
         },
         {
          "all_unlabeled_roc_auc_scores": 0.9877078209395478,
          "asked_queries": 10342,
          "f1": 0.9676299820762657,
          "iteration": 83,
          "query_length": 1,
          "query_length_cumsum": 10341,
          "query_strong_accuracy_list": null,
          "recommendation": "Oracle",
          "test_acc": 0.9677263969171483
         },
         {
          "all_unlabeled_roc_auc_scores": 0.9876613765110839,
          "asked_queries": 10361,
          "f1": 0.9677711141062627,
          "iteration": 84,
          "query_length": 19,
          "query_length_cumsum": 10342,
          "query_strong_accuracy_list": 1,
          "recommendation": "Weak Certainty",
          "test_acc": 0.9678602451500821
         }
        ],
        "data-bfebcaf7d249ed01dfbe223523383148": [
         {
          "all_unlabeled_roc_auc_scores": 0.5800884815786265,
          "asked_queries": 2,
          "f1": 0.29758877060746974,
          "iteration": 0,
          "query_length": 2,
          "query_length_cumsum": 0,
          "query_strong_accuracy_list": null,
          "recommendation": "Ground Truth",
          "test_acc": 0.19020760830433217
         },
         {
          "all_unlabeled_roc_auc_scores": 0.6183058993020485,
          "asked_queries": 12,
          "f1": 0.9734033771221546,
          "iteration": 1,
          "query_length": 10,
          "query_length_cumsum": 2,
          "query_strong_accuracy_list": null,
          "recommendation": "Oracle",
          "test_acc": 0.9822157317756262
         },
         {
          "all_unlabeled_roc_auc_scores": 0.501957635048411,
          "asked_queries": 19669,
          "f1": 0.969787638162385,
          "iteration": 2,
          "query_length": 19657,
          "query_length_cumsum": 12,
          "query_strong_accuracy_list": 0.9859592002848858,
          "recommendation": "Weak Certainty",
          "test_acc": 0.9797896541492203
         },
         {
          "all_unlabeled_roc_auc_scores": 0.504741230179039,
          "asked_queries": 19673,
          "f1": 0.9697836670293414,
          "iteration": 3,
          "query_length": 4,
          "query_length_cumsum": 19669,
          "query_strong_accuracy_list": 1,
          "recommendation": "Weak Cluster",
          "test_acc": 0.9797869884921028
         },
         {
          "all_unlabeled_roc_auc_scores": 0.5142810373295396,
          "asked_queries": 19744,
          "f1": 0.9697130053022711,
          "iteration": 4,
          "query_length": 71,
          "query_length_cumsum": 19673,
          "query_strong_accuracy_list": 1,
          "recommendation": "Weak Cluster",
          "test_acc": 0.979739555790587
         },
         {
          "all_unlabeled_roc_auc_scores": 0.5026223439479107,
          "asked_queries": 19867,
          "f1": 0.9696392428007763,
          "iteration": 5,
          "query_length": 123,
          "query_length_cumsum": 19744,
          "query_strong_accuracy_list": 0.991869918699187,
          "recommendation": "Weak Cluster",
          "test_acc": 0.9796900408190357
         },
         {
          "all_unlabeled_roc_auc_scores": 0.5014417808758576,
          "asked_queries": 20011,
          "f1": 0.9698416892733451,
          "iteration": 6,
          "query_length": 144,
          "query_length_cumsum": 19867,
          "query_strong_accuracy_list": 0.9513888888888888,
          "recommendation": "Weak Cluster",
          "test_acc": 0.9798259361765981
         },
         {
          "all_unlabeled_roc_auc_scores": 0.5085479146724664,
          "asked_queries": 20014,
          "f1": 0.969838682423362,
          "iteration": 7,
          "query_length": 3,
          "query_length_cumsum": 20011,
          "query_strong_accuracy_list": 1,
          "recommendation": "Weak Cluster",
          "test_acc": 0.9798239178283199
         },
         {
          "all_unlabeled_roc_auc_scores": 0.5008733117122227,
          "asked_queries": 20016,
          "f1": 0.9698366775236007,
          "iteration": 8,
          "query_length": 2,
          "query_length_cumsum": 20014,
          "query_strong_accuracy_list": 1,
          "recommendation": "Weak Cluster",
          "test_acc": 0.9798225720384205
         },
         {
          "all_unlabeled_roc_auc_scores": 0.5094568093150705,
          "asked_queries": 20167,
          "f1": 0.9697344690632289,
          "iteration": 9,
          "query_length": 151,
          "query_length_cumsum": 20016,
          "query_strong_accuracy_list": 0.9933774834437086,
          "recommendation": "Weak Cluster",
          "test_acc": 0.9797539637314383
         },
         {
          "all_unlabeled_roc_auc_scores": 0.5048384783855661,
          "asked_queries": 20186,
          "f1": 0.9697152480010564,
          "iteration": 10,
          "query_length": 19,
          "query_length_cumsum": 20167,
          "query_strong_accuracy_list": 1,
          "recommendation": "Weak Cluster",
          "test_acc": 0.9797410612463943
         },
         {
          "all_unlabeled_roc_auc_scores": 0.49923660193508546,
          "asked_queries": 20254,
          "f1": 0.9698465824749938,
          "iteration": 11,
          "query_length": 68,
          "query_length_cumsum": 20186,
          "query_strong_accuracy_list": 0.9411764705882353,
          "recommendation": "Weak Cluster",
          "test_acc": 0.9798292207355611
         },
         {
          "all_unlabeled_roc_auc_scores": 0.49983925622626474,
          "asked_queries": 20294,
          "f1": 0.9699064204706287,
          "iteration": 12,
          "query_length": 40,
          "query_length_cumsum": 20254,
          "query_strong_accuracy_list": 0.95,
          "recommendation": "Weak Cluster",
          "test_acc": 0.9798693866558944
         },
         {
          "all_unlabeled_roc_auc_scores": 0.5033048559506046,
          "asked_queries": 20330,
          "f1": 0.9699202436649422,
          "iteration": 13,
          "query_length": 36,
          "query_length_cumsum": 20294,
          "query_strong_accuracy_list": 0.9722222222222222,
          "recommendation": "Weak Cluster",
          "test_acc": 0.9798786653185035
         },
         {
          "all_unlabeled_roc_auc_scores": 0.49951102560359273,
          "asked_queries": 20346,
          "f1": 0.9700547885867943,
          "iteration": 14,
          "query_length": 16,
          "query_length_cumsum": 20330,
          "query_strong_accuracy_list": 0.8125,
          "recommendation": "Weak Cluster",
          "test_acc": 0.9799689755176367
         },
         {
          "all_unlabeled_roc_auc_scores": 0.5035505306063978,
          "asked_queries": 20355,
          "f1": 0.970045728527202,
          "iteration": 15,
          "query_length": 9,
          "query_length_cumsum": 20346,
          "query_strong_accuracy_list": 1,
          "recommendation": "Weak Cluster",
          "test_acc": 0.9799628942486085
         },
         {
          "all_unlabeled_roc_auc_scores": 0.5018899322297965,
          "asked_queries": 20365,
          "f1": 0.9700356553625729,
          "iteration": 16,
          "query_length": 10,
          "query_length_cumsum": 20355,
          "query_strong_accuracy_list": 1,
          "recommendation": "Weak Cluster",
          "test_acc": 0.9799561329509027
         },
         {
          "all_unlabeled_roc_auc_scores": 0.5059135076873512,
          "asked_queries": 20373,
          "f1": 0.9700275919518544,
          "iteration": 17,
          "query_length": 8,
          "query_length_cumsum": 20365,
          "query_strong_accuracy_list": 1,
          "recommendation": "Weak Cluster",
          "test_acc": 0.9799507206264556
         },
         {
          "all_unlabeled_roc_auc_scores": 0.504576291267387,
          "asked_queries": 20442,
          "f1": 0.9700082673321908,
          "iteration": 18,
          "query_length": 69,
          "query_length_cumsum": 20373,
          "query_strong_accuracy_list": 0.9855072463768116,
          "recommendation": "Weak Cluster",
          "test_acc": 0.979937749509439
         },
         {
          "all_unlabeled_roc_auc_scores": 0.5080718560905371,
          "asked_queries": 20481,
          "f1": 0.9699687785966892,
          "iteration": 19,
          "query_length": 39,
          "query_length_cumsum": 20442,
          "query_strong_accuracy_list": 1,
          "recommendation": "Weak Cluster",
          "test_acc": 0.9799112436058132
         },
         {
          "all_unlabeled_roc_auc_scores": 0.504858514219626,
          "asked_queries": 20568,
          "f1": 0.9700827869379106,
          "iteration": 20,
          "query_length": 87,
          "query_length_cumsum": 20481,
          "query_strong_accuracy_list": 0.9540229885057471,
          "recommendation": "Weak Cluster",
          "test_acc": 0.9799877684153303
         },
         {
          "all_unlabeled_roc_auc_scores": 0.5007836265555496,
          "asked_queries": 21061,
          "f1": 0.9705530489224509,
          "iteration": 21,
          "query_length": 493,
          "query_length_cumsum": 20568,
          "query_strong_accuracy_list": 0.9614604462474645,
          "recommendation": "Weak Cluster",
          "test_acc": 0.9803033968001659
         },
         {
          "all_unlabeled_roc_auc_scores": 0.5053120421934345,
          "asked_queries": 21096,
          "f1": 0.9705175113991528,
          "iteration": 22,
          "query_length": 35,
          "query_length_cumsum": 21061,
          "query_strong_accuracy_list": 1,
          "recommendation": "Weak Cluster",
          "test_acc": 0.980279546083587
         },
         {
          "all_unlabeled_roc_auc_scores": 0.5010805294501022,
          "asked_queries": 21122,
          "f1": 0.9705942493116565,
          "iteration": 23,
          "query_length": 26,
          "query_length_cumsum": 21096,
          "query_strong_accuracy_list": 0.9230769230769231,
          "recommendation": "Weak Cluster",
          "test_acc": 0.9803310478564997
         },
         {
          "all_unlabeled_roc_auc_scores": 0.5046114652349851,
          "asked_queries": 21142,
          "f1": 0.9706255709467708,
          "iteration": 24,
          "query_length": 20,
          "query_length_cumsum": 21122,
          "query_strong_accuracy_list": 0.95,
          "recommendation": "Weak Cluster",
          "test_acc": 0.9803520687504331
         },
         {
          "all_unlabeled_roc_auc_scores": 0.5016641213063218,
          "asked_queries": 21262,
          "f1": 0.9705551737918978,
          "iteration": 25,
          "query_length": 120,
          "query_length_cumsum": 21142,
          "query_strong_accuracy_list": 0.9916666666666667,
          "recommendation": "Weak Cluster",
          "test_acc": 0.9803048228825945
         },
         {
          "all_unlabeled_roc_auc_scores": 0.504182749806297,
          "asked_queries": 21280,
          "f1": 0.9706405431470818,
          "iteration": 26,
          "query_length": 18,
          "query_length_cumsum": 21262,
          "query_strong_accuracy_list": 0.8888888888888888,
          "recommendation": "Weak Cluster",
          "test_acc": 0.9803621169916434
         },
         {
          "all_unlabeled_roc_auc_scores": 0.5024296086560417,
          "asked_queries": 21302,
          "f1": 0.9706181115126208,
          "iteration": 27,
          "query_length": 22,
          "query_length_cumsum": 21280,
          "query_strong_accuracy_list": 1,
          "recommendation": "Weak Cluster",
          "test_acc": 0.9803470625130671
         },
         {
          "all_unlabeled_roc_auc_scores": 0.505901255105028,
          "asked_queries": 21539,
          "f1": 0.9704266207472765,
          "iteration": 28,
          "query_length": 237,
          "query_length_cumsum": 21302,
          "query_strong_accuracy_list": 0.9957805907172996,
          "recommendation": "Weak Cluster",
          "test_acc": 0.9802185446751696
         },
         {
          "all_unlabeled_roc_auc_scores": 0.497737833211054,
          "asked_queries": 25000,
          "f1": 0.9721276795736262,
          "iteration": 29,
          "query_length": 3461,
          "query_length_cumsum": 21539,
          "query_strong_accuracy_list": 0.971973418087258,
          "recommendation": "Weak Certainty",
          "test_acc": 0.98136
         }
        ],
        "data-e07f8e5cbade7c7206dda43d4f0c3e06": [
         {
          "all_unlabeled_roc_auc_scores": 0.7649210410996535,
          "asked_queries": 4,
          "f1": 0.41283275595167934,
          "iteration": 0,
          "query_length": 4,
          "query_length_cumsum": 0,
          "query_strong_accuracy_list": null,
          "recommendation": "Ground Truth",
          "test_acc": 0.43010566429932445
         },
         {
          "all_unlabeled_roc_auc_scores": 0.704130029886802,
          "asked_queries": 14,
          "f1": 0.34960520288635916,
          "iteration": 1,
          "query_length": 10,
          "query_length_cumsum": 4,
          "query_strong_accuracy_list": null,
          "recommendation": "Oracle",
          "test_acc": 0.37983689050841574
         },
         {
          "all_unlabeled_roc_auc_scores": 0.7683181023086569,
          "asked_queries": 24,
          "f1": 0.5333355641694357,
          "iteration": 2,
          "query_length": 10,
          "query_length_cumsum": 14,
          "query_strong_accuracy_list": null,
          "recommendation": "Oracle",
          "test_acc": 0.5358943160090388
         },
         {
          "all_unlabeled_roc_auc_scores": 0.7969658723512939,
          "asked_queries": 34,
          "f1": 0.5593960635794915,
          "iteration": 3,
          "query_length": 10,
          "query_length_cumsum": 24,
          "query_strong_accuracy_list": null,
          "recommendation": "Oracle",
          "test_acc": 0.5908061988507749
         },
         {
          "all_unlabeled_roc_auc_scores": 0.8153808526846125,
          "asked_queries": 44,
          "f1": 0.6334299519699353,
          "iteration": 4,
          "query_length": 10,
          "query_length_cumsum": 34,
          "query_strong_accuracy_list": null,
          "recommendation": "Oracle",
          "test_acc": 0.6507936507936508
         },
         {
          "all_unlabeled_roc_auc_scores": 0.8283464272879608,
          "asked_queries": 54,
          "f1": 0.6608691701283069,
          "iteration": 5,
          "query_length": 10,
          "query_length_cumsum": 44,
          "query_strong_accuracy_list": null,
          "recommendation": "Oracle",
          "test_acc": 0.6793639699458326
         },
         {
          "all_unlabeled_roc_auc_scores": 0.8327284471326853,
          "asked_queries": 97,
          "f1": 0.6455332651411196,
          "iteration": 6,
          "query_length": 43,
          "query_length_cumsum": 54,
          "query_strong_accuracy_list": 0.9302325581395349,
          "recommendation": "Weak Certainty",
          "test_acc": 0.6704225352112676
         },
         {
          "all_unlabeled_roc_auc_scores": 0.8328597094145368,
          "asked_queries": 269,
          "f1": 0.6345645495252843,
          "iteration": 7,
          "query_length": 172,
          "query_length_cumsum": 97,
          "query_strong_accuracy_list": 0.9709302325581395,
          "recommendation": "Weak Certainty",
          "test_acc": 0.6603122730573711
         },
         {
          "all_unlabeled_roc_auc_scores": 0.8228849012770721,
          "asked_queries": 276,
          "f1": 0.6305052485364083,
          "iteration": 8,
          "query_length": 7,
          "query_length_cumsum": 269,
          "query_strong_accuracy_list": 1,
          "recommendation": "Weak Cluster",
          "test_acc": 0.6515179058353027
         },
         {
          "all_unlabeled_roc_auc_scores": 0.8243466015397507,
          "asked_queries": 648,
          "f1": 0.5906516412346455,
          "iteration": 9,
          "query_length": 372,
          "query_length_cumsum": 276,
          "query_strong_accuracy_list": 0.946236559139785,
          "recommendation": "Weak Certainty",
          "test_acc": 0.6291674790407487
         },
         {
          "all_unlabeled_roc_auc_scores": 0.8120106884417809,
          "asked_queries": 679,
          "f1": 0.5823850016373857,
          "iteration": 10,
          "query_length": 31,
          "query_length_cumsum": 648,
          "query_strong_accuracy_list": 0.7741935483870968,
          "recommendation": "Weak Cluster",
          "test_acc": 0.6224009415457042
         },
         {
          "all_unlabeled_roc_auc_scores": 0.8138597498506234,
          "asked_queries": 687,
          "f1": 0.5653076732735272,
          "iteration": 11,
          "query_length": 8,
          "query_length_cumsum": 679,
          "query_strong_accuracy_list": 0.875,
          "recommendation": "Weak Cluster",
          "test_acc": 0.6009823182711198
         },
         {
          "all_unlabeled_roc_auc_scores": 0.8064944251615703,
          "asked_queries": 691,
          "f1": 0.5542326975171493,
          "iteration": 12,
          "query_length": 4,
          "query_length_cumsum": 687,
          "query_strong_accuracy_list": 1,
          "recommendation": "Weak Cluster",
          "test_acc": 0.5926071569012977
         },
         {
          "all_unlabeled_roc_auc_scores": 0.7973048578554977,
          "asked_queries": 695,
          "f1": 0.526068245749754,
          "iteration": 13,
          "query_length": 4,
          "query_length_cumsum": 691,
          "query_strong_accuracy_list": 0.5,
          "recommendation": "Weak Cluster",
          "test_acc": 0.5667060212514758
         },
         {
          "all_unlabeled_roc_auc_scores": 0.8342920184352569,
          "asked_queries": 705,
          "f1": 0.6002443743535382,
          "iteration": 14,
          "query_length": 10,
          "query_length_cumsum": 695,
          "query_strong_accuracy_list": null,
          "recommendation": "Oracle",
          "test_acc": 0.6435331230283912
         },
         {
          "all_unlabeled_roc_auc_scores": 0.8324428555643409,
          "asked_queries": 715,
          "f1": 0.617707767009344,
          "iteration": 15,
          "query_length": 10,
          "query_length_cumsum": 705,
          "query_strong_accuracy_list": null,
          "recommendation": "Oracle",
          "test_acc": 0.6523113393915448
         },
         {
          "all_unlabeled_roc_auc_scores": 0.8669204398440189,
          "asked_queries": 725,
          "f1": 0.6003776588758469,
          "iteration": 16,
          "query_length": 10,
          "query_length_cumsum": 715,
          "query_strong_accuracy_list": null,
          "recommendation": "Oracle",
          "test_acc": 0.6355898653998416
         },
         {
          "all_unlabeled_roc_auc_scores": 0.8673039054736401,
          "asked_queries": 735,
          "f1": 0.6112601049901464,
          "iteration": 17,
          "query_length": 10,
          "query_length_cumsum": 725,
          "query_strong_accuracy_list": null,
          "recommendation": "Oracle",
          "test_acc": 0.6314954383181277
         },
         {
          "all_unlabeled_roc_auc_scores": 0.8646172620045124,
          "asked_queries": 745,
          "f1": 0.6378711607082588,
          "iteration": 18,
          "query_length": 10,
          "query_length_cumsum": 735,
          "query_strong_accuracy_list": null,
          "recommendation": "Oracle",
          "test_acc": 0.6617647058823529
         },
         {
          "all_unlabeled_roc_auc_scores": 0.8619204798823691,
          "asked_queries": 755,
          "f1": 0.6446410469687356,
          "iteration": 19,
          "query_length": 10,
          "query_length_cumsum": 745,
          "query_strong_accuracy_list": null,
          "recommendation": "Oracle",
          "test_acc": 0.6664675428116288
         },
         {
          "all_unlabeled_roc_auc_scores": 0.8626579430589222,
          "asked_queries": 765,
          "f1": 0.6429377234822531,
          "iteration": 20,
          "query_length": 10,
          "query_length_cumsum": 755,
          "query_strong_accuracy_list": null,
          "recommendation": "Oracle",
          "test_acc": 0.6693934557063048
         },
         {
          "all_unlabeled_roc_auc_scores": 0.8772160388312845,
          "asked_queries": 775,
          "f1": 0.6700720119884714,
          "iteration": 21,
          "query_length": 10,
          "query_length_cumsum": 765,
          "query_strong_accuracy_list": null,
          "recommendation": "Oracle",
          "test_acc": 0.6885245901639344
         },
         {
          "all_unlabeled_roc_auc_scores": 0.871604581519222,
          "asked_queries": 785,
          "f1": 0.6686540241603591,
          "iteration": 22,
          "query_length": 10,
          "query_length_cumsum": 775,
          "query_strong_accuracy_list": null,
          "recommendation": "Oracle",
          "test_acc": 0.6885016025641025
         },
         {
          "all_unlabeled_roc_auc_scores": 0.8717272484369376,
          "asked_queries": 795,
          "f1": 0.6754741862434359,
          "iteration": 23,
          "query_length": 10,
          "query_length_cumsum": 785,
          "query_strong_accuracy_list": null,
          "recommendation": "Oracle",
          "test_acc": 0.6963067041348856
         },
         {
          "all_unlabeled_roc_auc_scores": 0.8863650860487224,
          "asked_queries": 805,
          "f1": 0.6853338869270307,
          "iteration": 24,
          "query_length": 10,
          "query_length_cumsum": 795,
          "query_strong_accuracy_list": null,
          "recommendation": "Oracle",
          "test_acc": 0.6995172968624296
         },
         {
          "all_unlabeled_roc_auc_scores": 0.8782262411903462,
          "asked_queries": 815,
          "f1": 0.6763982287475985,
          "iteration": 25,
          "query_length": 10,
          "query_length_cumsum": 805,
          "query_strong_accuracy_list": null,
          "recommendation": "Oracle",
          "test_acc": 0.6979040709391374
         },
         {
          "all_unlabeled_roc_auc_scores": 0.8828744979284052,
          "asked_queries": 825,
          "f1": 0.6847854865977963,
          "iteration": 26,
          "query_length": 10,
          "query_length_cumsum": 815,
          "query_strong_accuracy_list": null,
          "recommendation": "Oracle",
          "test_acc": 0.7005250403877221
         },
         {
          "all_unlabeled_roc_auc_scores": 0.8912372550101256,
          "asked_queries": 835,
          "f1": 0.704564253883178,
          "iteration": 27,
          "query_length": 10,
          "query_length_cumsum": 825,
          "query_strong_accuracy_list": null,
          "recommendation": "Oracle",
          "test_acc": 0.7201537838931606
         },
         {
          "all_unlabeled_roc_auc_scores": 0.8844008288837064,
          "asked_queries": 845,
          "f1": 0.7005981413675768,
          "iteration": 28,
          "query_length": 10,
          "query_length_cumsum": 835,
          "query_strong_accuracy_list": null,
          "recommendation": "Oracle",
          "test_acc": 0.7165450121654501
         },
         {
          "all_unlabeled_roc_auc_scores": 0.8911488439703059,
          "asked_queries": 855,
          "f1": 0.6989368637636736,
          "iteration": 29,
          "query_length": 10,
          "query_length_cumsum": 845,
          "query_strong_accuracy_list": null,
          "recommendation": "Oracle",
          "test_acc": 0.7139374238114587
         },
         {
          "all_unlabeled_roc_auc_scores": 0.8950959365823364,
          "asked_queries": 865,
          "f1": 0.7090312220017984,
          "iteration": 30,
          "query_length": 10,
          "query_length_cumsum": 855,
          "query_strong_accuracy_list": null,
          "recommendation": "Oracle",
          "test_acc": 0.7204804560260586
         },
         {
          "all_unlabeled_roc_auc_scores": 0.8958896983909543,
          "asked_queries": 875,
          "f1": 0.7201597108891018,
          "iteration": 31,
          "query_length": 10,
          "query_length_cumsum": 865,
          "query_strong_accuracy_list": null,
          "recommendation": "Oracle",
          "test_acc": 0.733374133006936
         },
         {
          "all_unlabeled_roc_auc_scores": 0.896470030153405,
          "asked_queries": 885,
          "f1": 0.7165874616334639,
          "iteration": 32,
          "query_length": 10,
          "query_length_cumsum": 875,
          "query_strong_accuracy_list": null,
          "recommendation": "Oracle",
          "test_acc": 0.7289452166802943
         },
         {
          "all_unlabeled_roc_auc_scores": 0.896345173788728,
          "asked_queries": 895,
          "f1": 0.7293699856784712,
          "iteration": 33,
          "query_length": 10,
          "query_length_cumsum": 885,
          "query_strong_accuracy_list": null,
          "recommendation": "Oracle",
          "test_acc": 0.739655878738222
         },
         {
          "all_unlabeled_roc_auc_scores": 0.9006940978628647,
          "asked_queries": 905,
          "f1": 0.7393311688088028,
          "iteration": 34,
          "query_length": 10,
          "query_length_cumsum": 895,
          "query_strong_accuracy_list": null,
          "recommendation": "Oracle",
          "test_acc": 0.7477422003284072
         },
         {
          "all_unlabeled_roc_auc_scores": 0.8974830497095013,
          "asked_queries": 915,
          "f1": 0.7323434529732517,
          "iteration": 35,
          "query_length": 10,
          "query_length_cumsum": 905,
          "query_strong_accuracy_list": null,
          "recommendation": "Oracle",
          "test_acc": 0.7412587412587412
         },
         {
          "all_unlabeled_roc_auc_scores": 0.9014333488010932,
          "asked_queries": 925,
          "f1": 0.7524867824240473,
          "iteration": 36,
          "query_length": 10,
          "query_length_cumsum": 915,
          "query_strong_accuracy_list": null,
          "recommendation": "Oracle",
          "test_acc": 0.7592745259686727
         },
         {
          "all_unlabeled_roc_auc_scores": 0.9052022495419573,
          "asked_queries": 935,
          "f1": 0.742565806268265,
          "iteration": 37,
          "query_length": 10,
          "query_length_cumsum": 925,
          "query_strong_accuracy_list": null,
          "recommendation": "Oracle",
          "test_acc": 0.7492771581990912
         },
         {
          "all_unlabeled_roc_auc_scores": 0.9023015628877765,
          "asked_queries": 945,
          "f1": 0.7329433801180169,
          "iteration": 38,
          "query_length": 10,
          "query_length_cumsum": 935,
          "query_strong_accuracy_list": null,
          "recommendation": "Oracle",
          "test_acc": 0.7392384105960265
         },
         {
          "all_unlabeled_roc_auc_scores": 0.9034720143457134,
          "asked_queries": 955,
          "f1": 0.7504592385422676,
          "iteration": 39,
          "query_length": 10,
          "query_length_cumsum": 945,
          "query_strong_accuracy_list": null,
          "recommendation": "Oracle",
          "test_acc": 0.7548734964744919
         },
         {
          "all_unlabeled_roc_auc_scores": 0.9067851147329992,
          "asked_queries": 965,
          "f1": 0.7474448493253053,
          "iteration": 40,
          "query_length": 10,
          "query_length_cumsum": 955,
          "query_strong_accuracy_list": null,
          "recommendation": "Oracle",
          "test_acc": 0.7547797173732336
         },
         {
          "all_unlabeled_roc_auc_scores": 0.9120332506860679,
          "asked_queries": 975,
          "f1": 0.7562449517331226,
          "iteration": 41,
          "query_length": 10,
          "query_length_cumsum": 965,
          "query_strong_accuracy_list": null,
          "recommendation": "Oracle",
          "test_acc": 0.7632236568096626
         },
         {
          "all_unlabeled_roc_auc_scores": 0.9082186659150467,
          "asked_queries": 985,
          "f1": 0.764459664961239,
          "iteration": 42,
          "query_length": 10,
          "query_length_cumsum": 975,
          "query_strong_accuracy_list": null,
          "recommendation": "Oracle",
          "test_acc": 0.7708681135225376
         },
         {
          "all_unlabeled_roc_auc_scores": 0.9109847004391716,
          "asked_queries": 995,
          "f1": 0.7596915399903889,
          "iteration": 43,
          "query_length": 10,
          "query_length_cumsum": 985,
          "query_strong_accuracy_list": null,
          "recommendation": "Oracle",
          "test_acc": 0.7664157256378085
         },
         {
          "all_unlabeled_roc_auc_scores": 0.910361854977458,
          "asked_queries": 1005,
          "f1": 0.7674253805776394,
          "iteration": 44,
          "query_length": 10,
          "query_length_cumsum": 995,
          "query_strong_accuracy_list": null,
          "recommendation": "Oracle",
          "test_acc": 0.7732606873428332
         },
         {
          "all_unlabeled_roc_auc_scores": 0.9073344311543315,
          "asked_queries": 1015,
          "f1": 0.7623544914446123,
          "iteration": 45,
          "query_length": 10,
          "query_length_cumsum": 1005,
          "query_strong_accuracy_list": null,
          "recommendation": "Oracle",
          "test_acc": 0.7696346073078538
         },
         {
          "all_unlabeled_roc_auc_scores": 0.9117883256565253,
          "asked_queries": 1025,
          "f1": 0.7622600235409951,
          "iteration": 46,
          "query_length": 10,
          "query_length_cumsum": 1015,
          "query_strong_accuracy_list": null,
          "recommendation": "Oracle",
          "test_acc": 0.7704124579124579
         },
         {
          "all_unlabeled_roc_auc_scores": 0.9129924629197673,
          "asked_queries": 1035,
          "f1": 0.767044259527499,
          "iteration": 47,
          "query_length": 10,
          "query_length_cumsum": 1025,
          "query_strong_accuracy_list": null,
          "recommendation": "Oracle",
          "test_acc": 0.7739350485027414
         },
         {
          "all_unlabeled_roc_auc_scores": 0.9103223821776026,
          "asked_queries": 1045,
          "f1": 0.7670985872891939,
          "iteration": 48,
          "query_length": 10,
          "query_length_cumsum": 1035,
          "query_strong_accuracy_list": null,
          "recommendation": "Oracle",
          "test_acc": 0.7732459847844463
         },
         {
          "all_unlabeled_roc_auc_scores": 0.9107542635936383,
          "asked_queries": 1055,
          "f1": 0.7714529794998214,
          "iteration": 49,
          "query_length": 10,
          "query_length_cumsum": 1045,
          "query_strong_accuracy_list": null,
          "recommendation": "Oracle",
          "test_acc": 0.7780601440067768
         },
         {
          "all_unlabeled_roc_auc_scores": 0.9087846197297424,
          "asked_queries": 1065,
          "f1": 0.7661879454385421,
          "iteration": 50,
          "query_length": 10,
          "query_length_cumsum": 1055,
          "query_strong_accuracy_list": null,
          "recommendation": "Oracle",
          "test_acc": 0.7731324278438031
         },
         {
          "all_unlabeled_roc_auc_scores": 0.9109437444306847,
          "asked_queries": 1075,
          "f1": 0.7652904108493448,
          "iteration": 51,
          "query_length": 10,
          "query_length_cumsum": 1065,
          "query_strong_accuracy_list": null,
          "recommendation": "Oracle",
          "test_acc": 0.7726499361973628
         },
         {
          "all_unlabeled_roc_auc_scores": 0.9149979554625287,
          "asked_queries": 1085,
          "f1": 0.7728558755558791,
          "iteration": 52,
          "query_length": 10,
          "query_length_cumsum": 1075,
          "query_strong_accuracy_list": null,
          "recommendation": "Oracle",
          "test_acc": 0.7791986359761296
         },
         {
          "all_unlabeled_roc_auc_scores": 0.9157110243026497,
          "asked_queries": 1095,
          "f1": 0.788006457514126,
          "iteration": 53,
          "query_length": 10,
          "query_length_cumsum": 1085,
          "query_strong_accuracy_list": null,
          "recommendation": "Oracle",
          "test_acc": 0.7923964117898334
         },
         {
          "all_unlabeled_roc_auc_scores": 0.9149970533666005,
          "asked_queries": 1105,
          "f1": 0.7703702408714789,
          "iteration": 54,
          "query_length": 10,
          "query_length_cumsum": 1095,
          "query_strong_accuracy_list": null,
          "recommendation": "Oracle",
          "test_acc": 0.777611301369863
         },
         {
          "all_unlabeled_roc_auc_scores": 0.9162495870532227,
          "asked_queries": 1115,
          "f1": 0.7798307563295636,
          "iteration": 55,
          "query_length": 10,
          "query_length_cumsum": 1105,
          "query_strong_accuracy_list": null,
          "recommendation": "Oracle",
          "test_acc": 0.7857142857142857
         },
         {
          "all_unlabeled_roc_auc_scores": 0.9014688827851418,
          "asked_queries": 1423,
          "f1": 0.7707834509539374,
          "iteration": 56,
          "query_length": 308,
          "query_length_cumsum": 1115,
          "query_strong_accuracy_list": 0.775974025974026,
          "recommendation": "Weak Certainty",
          "test_acc": 0.7779053743683969
         },
         {
          "all_unlabeled_roc_auc_scores": 0.8960284563132311,
          "asked_queries": 1484,
          "f1": 0.7541567479766695,
          "iteration": 57,
          "query_length": 61,
          "query_length_cumsum": 1423,
          "query_strong_accuracy_list": 0.4426229508196721,
          "recommendation": "Weak Cluster",
          "test_acc": 0.7612392266480317
         },
         {
          "all_unlabeled_roc_auc_scores": 0.9010291767352546,
          "asked_queries": 1494,
          "f1": 0.7575937327524368,
          "iteration": 58,
          "query_length": 10,
          "query_length_cumsum": 1484,
          "query_strong_accuracy_list": null,
          "recommendation": "Oracle",
          "test_acc": 0.7639505019845902
         },
         {
          "all_unlabeled_roc_auc_scores": 0.899229502017206,
          "asked_queries": 1504,
          "f1": 0.7623825935753589,
          "iteration": 59,
          "query_length": 10,
          "query_length_cumsum": 1494,
          "query_strong_accuracy_list": null,
          "recommendation": "Oracle",
          "test_acc": 0.7690147437397613
         },
         {
          "all_unlabeled_roc_auc_scores": 0.9059776495370232,
          "asked_queries": 1514,
          "f1": 0.7592559153675386,
          "iteration": 60,
          "query_length": 10,
          "query_length_cumsum": 1504,
          "query_strong_accuracy_list": null,
          "recommendation": "Oracle",
          "test_acc": 0.7663617171006334
         },
         {
          "all_unlabeled_roc_auc_scores": 0.9058283167049805,
          "asked_queries": 1524,
          "f1": 0.7648689779096378,
          "iteration": 61,
          "query_length": 10,
          "query_length_cumsum": 1514,
          "query_strong_accuracy_list": null,
          "recommendation": "Oracle",
          "test_acc": 0.7719256995062309
         },
         {
          "all_unlabeled_roc_auc_scores": 0.9033676022951586,
          "asked_queries": 1534,
          "f1": 0.7657683698120955,
          "iteration": 62,
          "query_length": 10,
          "query_length_cumsum": 1524,
          "query_strong_accuracy_list": null,
          "recommendation": "Oracle",
          "test_acc": 0.7735093094508603
         },
         {
          "all_unlabeled_roc_auc_scores": 0.9037321297236565,
          "asked_queries": 1538,
          "f1": 0.7666894086015684,
          "iteration": 63,
          "query_length": 4,
          "query_length_cumsum": 1534,
          "query_strong_accuracy_list": null,
          "recommendation": "Oracle",
          "test_acc": 0.7737673979712196
         },
         {
          "all_unlabeled_roc_auc_scores": 0.9070001271924818,
          "asked_queries": 1554,
          "f1": 0.765466623743004,
          "iteration": 64,
          "query_length": 16,
          "query_length_cumsum": 1538,
          "query_strong_accuracy_list": 0.6875,
          "recommendation": "Weak Cluster",
          "test_acc": 0.7721998579209093
         },
         {
          "all_unlabeled_roc_auc_scores": 0.9074079458725716,
          "asked_queries": 1564,
          "f1": 0.7639710294172749,
          "iteration": 65,
          "query_length": 10,
          "query_length_cumsum": 1554,
          "query_strong_accuracy_list": null,
          "recommendation": "Oracle",
          "test_acc": 0.7697602658438167
         },
         {
          "all_unlabeled_roc_auc_scores": 0.9069272933771226,
          "asked_queries": 1574,
          "f1": 0.7618811039171991,
          "iteration": 66,
          "query_length": 10,
          "query_length_cumsum": 1564,
          "query_strong_accuracy_list": null,
          "recommendation": "Oracle",
          "test_acc": 0.768498691410897
         },
         {
          "all_unlabeled_roc_auc_scores": 0.9064054685442758,
          "asked_queries": 1576,
          "f1": 0.763698230836331,
          "iteration": 67,
          "query_length": 2,
          "query_length_cumsum": 1574,
          "query_strong_accuracy_list": null,
          "recommendation": "Oracle",
          "test_acc": 0.7702927874315639
         },
         {
          "all_unlabeled_roc_auc_scores": 0.9033412173585655,
          "asked_queries": 1586,
          "f1": 0.7706567623918789,
          "iteration": 68,
          "query_length": 10,
          "query_length_cumsum": 1576,
          "query_strong_accuracy_list": null,
          "recommendation": "Oracle",
          "test_acc": 0.7771414936769268
         },
         {
          "all_unlabeled_roc_auc_scores": 0.9055056245543378,
          "asked_queries": 1596,
          "f1": 0.7661344570429028,
          "iteration": 69,
          "query_length": 10,
          "query_length_cumsum": 1586,
          "query_strong_accuracy_list": null,
          "recommendation": "Oracle",
          "test_acc": 0.7734991628796939
         },
         {
          "all_unlabeled_roc_auc_scores": 0.9030252846514073,
          "asked_queries": 1606,
          "f1": 0.7681268588546245,
          "iteration": 70,
          "query_length": 10,
          "query_length_cumsum": 1596,
          "query_strong_accuracy_list": null,
          "recommendation": "Oracle",
          "test_acc": 0.7739151282666027
         },
         {
          "all_unlabeled_roc_auc_scores": 0.9034814197951055,
          "asked_queries": 1616,
          "f1": 0.7707025446377814,
          "iteration": 71,
          "query_length": 10,
          "query_length_cumsum": 1606,
          "query_strong_accuracy_list": null,
          "recommendation": "Oracle",
          "test_acc": 0.7774573419850997
         },
         {
          "all_unlabeled_roc_auc_scores": 0.9028353549580431,
          "asked_queries": 1626,
          "f1": 0.7674366900650799,
          "iteration": 72,
          "query_length": 10,
          "query_length_cumsum": 1616,
          "query_strong_accuracy_list": null,
          "recommendation": "Oracle",
          "test_acc": 0.7742712599373645
         },
         {
          "all_unlabeled_roc_auc_scores": 0.90490937617282,
          "asked_queries": 1636,
          "f1": 0.7700571706470808,
          "iteration": 73,
          "query_length": 10,
          "query_length_cumsum": 1626,
          "query_strong_accuracy_list": null,
          "recommendation": "Oracle",
          "test_acc": 0.7773484665539725
         },
         {
          "all_unlabeled_roc_auc_scores": 0.9069531026420986,
          "asked_queries": 1646,
          "f1": 0.7717735911661983,
          "iteration": 74,
          "query_length": 10,
          "query_length_cumsum": 1636,
          "query_strong_accuracy_list": null,
          "recommendation": "Oracle",
          "test_acc": 0.7777777777777778
         },
         {
          "all_unlabeled_roc_auc_scores": 0.9108665898627183,
          "asked_queries": 1656,
          "f1": 0.7861550699683845,
          "iteration": 75,
          "query_length": 10,
          "query_length_cumsum": 1646,
          "query_strong_accuracy_list": null,
          "recommendation": "Oracle",
          "test_acc": 0.7920407668041738
         },
         {
          "all_unlabeled_roc_auc_scores": 0.908493147742839,
          "asked_queries": 1666,
          "f1": 0.7812309612415118,
          "iteration": 76,
          "query_length": 10,
          "query_length_cumsum": 1656,
          "query_strong_accuracy_list": null,
          "recommendation": "Oracle",
          "test_acc": 0.7873996594502554
         },
         {
          "all_unlabeled_roc_auc_scores": 0.9131314084232937,
          "asked_queries": 1676,
          "f1": 0.7909165599825169,
          "iteration": 77,
          "query_length": 10,
          "query_length_cumsum": 1666,
          "query_strong_accuracy_list": null,
          "recommendation": "Oracle",
          "test_acc": 0.7954157522555474
         },
         {
          "all_unlabeled_roc_auc_scores": 0.9101492160019303,
          "asked_queries": 1686,
          "f1": 0.787618360599747,
          "iteration": 78,
          "query_length": 10,
          "query_length_cumsum": 1676,
          "query_strong_accuracy_list": null,
          "recommendation": "Oracle",
          "test_acc": 0.7922268394035689
         },
         {
          "all_unlabeled_roc_auc_scores": 0.9143340661731353,
          "asked_queries": 1696,
          "f1": 0.7907978211711304,
          "iteration": 79,
          "query_length": 10,
          "query_length_cumsum": 1686,
          "query_strong_accuracy_list": null,
          "recommendation": "Oracle",
          "test_acc": 0.7956383239402107
         },
         {
          "all_unlabeled_roc_auc_scores": 0.9135145562648012,
          "asked_queries": 1706,
          "f1": 0.7881114559627422,
          "iteration": 80,
          "query_length": 10,
          "query_length_cumsum": 1696,
          "query_strong_accuracy_list": null,
          "recommendation": "Oracle",
          "test_acc": 0.7926799312208302
         },
         {
          "all_unlabeled_roc_auc_scores": 0.9156225769169187,
          "asked_queries": 1713,
          "f1": 0.7964480272429157,
          "iteration": 81,
          "query_length": 7,
          "query_length_cumsum": 1706,
          "query_strong_accuracy_list": null,
          "recommendation": "Oracle",
          "test_acc": 0.8006889763779528
         },
         {
          "all_unlabeled_roc_auc_scores": 0.9205898301186689,
          "asked_queries": 1723,
          "f1": 0.8019087171306497,
          "iteration": 82,
          "query_length": 10,
          "query_length_cumsum": 1713,
          "query_strong_accuracy_list": null,
          "recommendation": "Oracle",
          "test_acc": 0.8058707449432659
         },
         {
          "all_unlabeled_roc_auc_scores": 0.9197908303629477,
          "asked_queries": 1733,
          "f1": 0.8007464423309248,
          "iteration": 83,
          "query_length": 10,
          "query_length_cumsum": 1723,
          "query_strong_accuracy_list": null,
          "recommendation": "Oracle",
          "test_acc": 0.804648862512364
         },
         {
          "all_unlabeled_roc_auc_scores": 0.9186595764933987,
          "asked_queries": 1743,
          "f1": 0.7961829204962346,
          "iteration": 84,
          "query_length": 10,
          "query_length_cumsum": 1733,
          "query_strong_accuracy_list": null,
          "recommendation": "Oracle",
          "test_acc": 0.8009419930589985
         },
         {
          "all_unlabeled_roc_auc_scores": 0.9199184762588679,
          "asked_queries": 1753,
          "f1": 0.8004146798463055,
          "iteration": 85,
          "query_length": 10,
          "query_length_cumsum": 1743,
          "query_strong_accuracy_list": null,
          "recommendation": "Oracle",
          "test_acc": 0.804920477137177
         },
         {
          "all_unlabeled_roc_auc_scores": 0.9212128940989999,
          "asked_queries": 1763,
          "f1": 0.805549135361525,
          "iteration": 86,
          "query_length": 10,
          "query_length_cumsum": 1753,
          "query_strong_accuracy_list": null,
          "recommendation": "Oracle",
          "test_acc": 0.8101644245142003
         },
         {
          "all_unlabeled_roc_auc_scores": 0.9235211031237226,
          "asked_queries": 1773,
          "f1": 0.8084829259727871,
          "iteration": 87,
          "query_length": 10,
          "query_length_cumsum": 1763,
          "query_strong_accuracy_list": null,
          "recommendation": "Oracle",
          "test_acc": 0.8124375624375625
         },
         {
          "all_unlabeled_roc_auc_scores": 0.9265294027021356,
          "asked_queries": 1783,
          "f1": 0.808909020467126,
          "iteration": 88,
          "query_length": 10,
          "query_length_cumsum": 1773,
          "query_strong_accuracy_list": null,
          "recommendation": "Oracle",
          "test_acc": 0.8127190786179269
         },
         {
          "all_unlabeled_roc_auc_scores": 0.9216970028382021,
          "asked_queries": 1793,
          "f1": 0.8096698135997571,
          "iteration": 89,
          "query_length": 10,
          "query_length_cumsum": 1783,
          "query_strong_accuracy_list": null,
          "recommendation": "Oracle",
          "test_acc": 0.8132530120481928
         },
         {
          "all_unlabeled_roc_auc_scores": 0.9249692829110012,
          "asked_queries": 1803,
          "f1": 0.8099006360228619,
          "iteration": 90,
          "query_length": 10,
          "query_length_cumsum": 1793,
          "query_strong_accuracy_list": null,
          "recommendation": "Oracle",
          "test_acc": 0.8140412682435832
         },
         {
          "all_unlabeled_roc_auc_scores": 0.9242318637666377,
          "asked_queries": 1813,
          "f1": 0.8106020888904854,
          "iteration": 91,
          "query_length": 10,
          "query_length_cumsum": 1803,
          "query_strong_accuracy_list": null,
          "recommendation": "Oracle",
          "test_acc": 0.8145812310797175
         },
         {
          "all_unlabeled_roc_auc_scores": 0.923568051090596,
          "asked_queries": 1823,
          "f1": 0.8098452259224151,
          "iteration": 92,
          "query_length": 10,
          "query_length_cumsum": 1813,
          "query_strong_accuracy_list": null,
          "recommendation": "Oracle",
          "test_acc": 0.8136064744562468
         },
         {
          "all_unlabeled_roc_auc_scores": 0.9254717227210807,
          "asked_queries": 1833,
          "f1": 0.8106867003571219,
          "iteration": 93,
          "query_length": 10,
          "query_length_cumsum": 1823,
          "query_strong_accuracy_list": null,
          "recommendation": "Oracle",
          "test_acc": 0.8144016227180527
         },
         {
          "all_unlabeled_roc_auc_scores": 0.925535882866655,
          "asked_queries": 1843,
          "f1": 0.8148771126407953,
          "iteration": 94,
          "query_length": 10,
          "query_length_cumsum": 1833,
          "query_strong_accuracy_list": null,
          "recommendation": "Oracle",
          "test_acc": 0.8185053380782918
         },
         {
          "all_unlabeled_roc_auc_scores": 0.9252361817669955,
          "asked_queries": 1853,
          "f1": 0.8150566280617388,
          "iteration": 95,
          "query_length": 10,
          "query_length_cumsum": 1843,
          "query_strong_accuracy_list": null,
          "recommendation": "Oracle",
          "test_acc": 0.81855249745158
         },
         {
          "all_unlabeled_roc_auc_scores": 0.9271743034345832,
          "asked_queries": 1863,
          "f1": 0.8176655411808768,
          "iteration": 96,
          "query_length": 10,
          "query_length_cumsum": 1853,
          "query_strong_accuracy_list": null,
          "recommendation": "Oracle",
          "test_acc": 0.8208993357179356
         },
         {
          "all_unlabeled_roc_auc_scores": 0.9276632758902221,
          "asked_queries": 1873,
          "f1": 0.8151391050180041,
          "iteration": 97,
          "query_length": 10,
          "query_length_cumsum": 1863,
          "query_strong_accuracy_list": null,
          "recommendation": "Oracle",
          "test_acc": 0.8189036885245902
         },
         {
          "all_unlabeled_roc_auc_scores": 0.9322998057833267,
          "asked_queries": 1968,
          "f1": 0.8233622443438608,
          "iteration": 98,
          "query_length": 95,
          "query_length_cumsum": 1873,
          "query_strong_accuracy_list": 0.7263157894736842,
          "recommendation": "Weak Cluster",
          "test_acc": 0.8264636387503281
         },
         {
          "all_unlabeled_roc_auc_scores": 0.9332935384465917,
          "asked_queries": 1978,
          "f1": 0.823743089428482,
          "iteration": 99,
          "query_length": 10,
          "query_length_cumsum": 1968,
          "query_strong_accuracy_list": null,
          "recommendation": "Oracle",
          "test_acc": 0.826533298236378
         },
         {
          "all_unlabeled_roc_auc_scores": 0.9335116783667256,
          "asked_queries": 1988,
          "f1": 0.8268295374037915,
          "iteration": 100,
          "query_length": 10,
          "query_length_cumsum": 1978,
          "query_strong_accuracy_list": null,
          "recommendation": "Oracle",
          "test_acc": 0.8295064660860385
         },
         {
          "all_unlabeled_roc_auc_scores": 0.9334006316211907,
          "asked_queries": 2030,
          "f1": 0.8153063082615639,
          "iteration": 101,
          "query_length": 42,
          "query_length_cumsum": 1988,
          "query_strong_accuracy_list": 0.6428571428571429,
          "recommendation": "Weak Cluster",
          "test_acc": 0.8182546036829463
         },
         {
          "all_unlabeled_roc_auc_scores": 0.9341471434231369,
          "asked_queries": 2040,
          "f1": 0.8203869762051562,
          "iteration": 102,
          "query_length": 10,
          "query_length_cumsum": 2030,
          "query_strong_accuracy_list": null,
          "recommendation": "Oracle",
          "test_acc": 0.8233877441798234
         },
         {
          "all_unlabeled_roc_auc_scores": 0.9341055130633978,
          "asked_queries": 2050,
          "f1": 0.8216115726532017,
          "iteration": 103,
          "query_length": 10,
          "query_length_cumsum": 2040,
          "query_strong_accuracy_list": null,
          "recommendation": "Oracle",
          "test_acc": 0.8245237456399249
         },
         {
          "all_unlabeled_roc_auc_scores": 0.935712395345909,
          "asked_queries": 2052,
          "f1": 0.8152283867171318,
          "iteration": 104,
          "query_length": 2,
          "query_length_cumsum": 2050,
          "query_strong_accuracy_list": 0.5,
          "recommendation": "Weak Cluster",
          "test_acc": 0.818255033557047
         },
         {
          "all_unlabeled_roc_auc_scores": 0.9354944793393999,
          "asked_queries": 2092,
          "f1": 0.8219914374405352,
          "iteration": 105,
          "query_length": 40,
          "query_length_cumsum": 2052,
          "query_strong_accuracy_list": 1,
          "recommendation": "Weak Cluster",
          "test_acc": 0.8252374491180461
         },
         {
          "all_unlabeled_roc_auc_scores": 0.9378780482866151,
          "asked_queries": 2102,
          "f1": 0.8179625127476142,
          "iteration": 106,
          "query_length": 10,
          "query_length_cumsum": 2092,
          "query_strong_accuracy_list": null,
          "recommendation": "Oracle",
          "test_acc": 0.8212244897959183
         },
         {
          "all_unlabeled_roc_auc_scores": 0.9363440410149108,
          "asked_queries": 2110,
          "f1": 0.8182488290477657,
          "iteration": 107,
          "query_length": 8,
          "query_length_cumsum": 2102,
          "query_strong_accuracy_list": 1,
          "recommendation": "Weak Cluster",
          "test_acc": 0.8213798745568585
         },
         {
          "all_unlabeled_roc_auc_scores": 0.9368005098574276,
          "asked_queries": 2120,
          "f1": 0.8192057225427302,
          "iteration": 108,
          "query_length": 10,
          "query_length_cumsum": 2110,
          "query_strong_accuracy_list": null,
          "recommendation": "Oracle",
          "test_acc": 0.8222586819797648
         },
         {
          "all_unlabeled_roc_auc_scores": 0.9376936156107601,
          "asked_queries": 2130,
          "f1": 0.8238972338930487,
          "iteration": 109,
          "query_length": 10,
          "query_length_cumsum": 2120,
          "query_strong_accuracy_list": null,
          "recommendation": "Oracle",
          "test_acc": 0.8269810803400055
         },
         {
          "all_unlabeled_roc_auc_scores": 0.9374567187604357,
          "asked_queries": 2140,
          "f1": 0.8254500686148633,
          "iteration": 110,
          "query_length": 10,
          "query_length_cumsum": 2130,
          "query_strong_accuracy_list": null,
          "recommendation": "Oracle",
          "test_acc": 0.8284300247456695
         },
         {
          "all_unlabeled_roc_auc_scores": 0.9385276842271179,
          "asked_queries": 2145,
          "f1": 0.8261862553385141,
          "iteration": 111,
          "query_length": 5,
          "query_length_cumsum": 2140,
          "query_strong_accuracy_list": null,
          "recommendation": "Oracle",
          "test_acc": 0.8290198237885462
         },
         {
          "all_unlabeled_roc_auc_scores": 0.9365761544776023,
          "asked_queries": 2155,
          "f1": 0.8216665083437841,
          "iteration": 112,
          "query_length": 10,
          "query_length_cumsum": 2145,
          "query_strong_accuracy_list": null,
          "recommendation": "Oracle",
          "test_acc": 0.8249585864163446
         },
         {
          "all_unlabeled_roc_auc_scores": 0.938590650306006,
          "asked_queries": 2165,
          "f1": 0.8244188459728128,
          "iteration": 113,
          "query_length": 10,
          "query_length_cumsum": 2155,
          "query_strong_accuracy_list": null,
          "recommendation": "Oracle",
          "test_acc": 0.8272425249169435
         },
         {
          "all_unlabeled_roc_auc_scores": 0.9367838567562826,
          "asked_queries": 2169,
          "f1": 0.8263483201698265,
          "iteration": 114,
          "query_length": 4,
          "query_length_cumsum": 2165,
          "query_strong_accuracy_list": 0.25,
          "recommendation": "Weak Cluster",
          "test_acc": 0.8295454545454546
         },
         {
          "all_unlabeled_roc_auc_scores": 0.9370880817975075,
          "asked_queries": 2179,
          "f1": 0.8230481091744652,
          "iteration": 115,
          "query_length": 10,
          "query_length_cumsum": 2169,
          "query_strong_accuracy_list": null,
          "recommendation": "Oracle",
          "test_acc": 0.8262923846581434
         },
         {
          "all_unlabeled_roc_auc_scores": 0.9386524533332622,
          "asked_queries": 2185,
          "f1": 0.8229469759609066,
          "iteration": 116,
          "query_length": 6,
          "query_length_cumsum": 2179,
          "query_strong_accuracy_list": 1,
          "recommendation": "Weak Cluster",
          "test_acc": 0.8260022271714922
         },
         {
          "all_unlabeled_roc_auc_scores": 0.9373077003399048,
          "asked_queries": 2541,
          "f1": 0.8054704429253284,
          "iteration": 117,
          "query_length": 356,
          "query_length_cumsum": 2185,
          "query_strong_accuracy_list": 0.9578651685393258,
          "recommendation": "Weak Certainty",
          "test_acc": 0.8090234857849197
         },
         {
          "all_unlabeled_roc_auc_scores": 0.9369956952710127,
          "asked_queries": 2568,
          "f1": 0.804371249712794,
          "iteration": 118,
          "query_length": 27,
          "query_length_cumsum": 2541,
          "query_strong_accuracy_list": 0.8518518518518519,
          "recommendation": "Weak Cluster",
          "test_acc": 0.8080398878155188
         },
         {
          "all_unlabeled_roc_auc_scores": 0.9367014892610609,
          "asked_queries": 2581,
          "f1": 0.8072338761771968,
          "iteration": 119,
          "query_length": 13,
          "query_length_cumsum": 2568,
          "query_strong_accuracy_list": 0.9230769230769231,
          "recommendation": "Weak Cluster",
          "test_acc": 0.8107008760951189
         },
         {
          "all_unlabeled_roc_auc_scores": 0.9378070163173492,
          "asked_queries": 2582,
          "f1": 0.8067843764728151,
          "iteration": 120,
          "query_length": 1,
          "query_length_cumsum": 2581,
          "query_strong_accuracy_list": 0,
          "recommendation": "Weak Cluster",
          "test_acc": 0.8103286384976526
         },
         {
          "all_unlabeled_roc_auc_scores": 0.9385889756247782,
          "asked_queries": 2585,
          "f1": 0.8050239296219918,
          "iteration": 121,
          "query_length": 3,
          "query_length_cumsum": 2582,
          "query_strong_accuracy_list": 1,
          "recommendation": "Weak Cluster",
          "test_acc": 0.8085839598997494
         },
         {
          "all_unlabeled_roc_auc_scores": 0.9380426900412653,
          "asked_queries": 2599,
          "f1": 0.8054933281960792,
          "iteration": 122,
          "query_length": 14,
          "query_length_cumsum": 2585,
          "query_strong_accuracy_list": 0.8571428571428571,
          "recommendation": "Weak Cluster",
          "test_acc": 0.8089993706733795
         },
         {
          "all_unlabeled_roc_auc_scores": 0.9369693800361812,
          "asked_queries": 2602,
          "f1": 0.8030305223351832,
          "iteration": 123,
          "query_length": 3,
          "query_length_cumsum": 2599,
          "query_strong_accuracy_list": 0.6666666666666666,
          "recommendation": "Weak Cluster",
          "test_acc": 0.8069291338582677
         },
         {
          "all_unlabeled_roc_auc_scores": 0.937826246001631,
          "asked_queries": 2604,
          "f1": 0.8088522069838731,
          "iteration": 124,
          "query_length": 2,
          "query_length_cumsum": 2602,
          "query_strong_accuracy_list": 1,
          "recommendation": "Weak Cluster",
          "test_acc": 0.8121651433974157
         },
         {
          "all_unlabeled_roc_auc_scores": 0.9370980526452627,
          "asked_queries": 2605,
          "f1": 0.8024838676580786,
          "iteration": 125,
          "query_length": 1,
          "query_length_cumsum": 2604,
          "query_strong_accuracy_list": 1,
          "recommendation": "Weak Cluster",
          "test_acc": 0.8061160151324086
         },
         {
          "all_unlabeled_roc_auc_scores": 0.9385264394837276,
          "asked_queries": 2725,
          "f1": 0.8006124236778102,
          "iteration": 126,
          "query_length": 120,
          "query_length_cumsum": 2605,
          "query_strong_accuracy_list": 0.9333333333333333,
          "recommendation": "Weak Certainty",
          "test_acc": 0.8043905635648755
         },
         {
          "all_unlabeled_roc_auc_scores": 0.9373754877990494,
          "asked_queries": 2737,
          "f1": 0.8008656742193627,
          "iteration": 127,
          "query_length": 12,
          "query_length_cumsum": 2725,
          "query_strong_accuracy_list": 0.75,
          "recommendation": "Weak Cluster",
          "test_acc": 0.8042763157894737
         },
         {
          "all_unlabeled_roc_auc_scores": 0.9397681239673296,
          "asked_queries": 2742,
          "f1": 0.7996131584995936,
          "iteration": 128,
          "query_length": 5,
          "query_length_cumsum": 2737,
          "query_strong_accuracy_list": null,
          "recommendation": "Oracle",
          "test_acc": 0.8036243822075783
         },
         {
          "all_unlabeled_roc_auc_scores": 0.9393284670418337,
          "asked_queries": 2745,
          "f1": 0.7982411151289892,
          "iteration": 129,
          "query_length": 3,
          "query_length_cumsum": 2742,
          "query_strong_accuracy_list": null,
          "recommendation": "Oracle",
          "test_acc": 0.8017810026385225
         },
         {
          "all_unlabeled_roc_auc_scores": 0.9397764052287618,
          "asked_queries": 2755,
          "f1": 0.8011632865381597,
          "iteration": 130,
          "query_length": 10,
          "query_length_cumsum": 2745,
          "query_strong_accuracy_list": null,
          "recommendation": "Oracle",
          "test_acc": 0.8044341495698213
         },
         {
          "all_unlabeled_roc_auc_scores": 0.9397838778651995,
          "asked_queries": 2758,
          "f1": 0.8015883728419616,
          "iteration": 131,
          "query_length": 3,
          "query_length_cumsum": 2755,
          "query_strong_accuracy_list": null,
          "recommendation": "Oracle",
          "test_acc": 0.8052335210334548
         },
         {
          "all_unlabeled_roc_auc_scores": 0.9400542548866481,
          "asked_queries": 2808,
          "f1": 0.8007784754369864,
          "iteration": 132,
          "query_length": 50,
          "query_length_cumsum": 2758,
          "query_strong_accuracy_list": 0.88,
          "recommendation": "Weak Certainty",
          "test_acc": 0.8036375884136073
         },
         {
          "all_unlabeled_roc_auc_scores": 0.9410278920251293,
          "asked_queries": 2830,
          "f1": 0.8021814424256354,
          "iteration": 133,
          "query_length": 22,
          "query_length_cumsum": 2808,
          "query_strong_accuracy_list": 0.8636363636363636,
          "recommendation": "Weak Certainty",
          "test_acc": 0.8052256532066508
         },
         {
          "all_unlabeled_roc_auc_scores": 0.9417929315637611,
          "asked_queries": 2836,
          "f1": 0.7978208967217925,
          "iteration": 134,
          "query_length": 6,
          "query_length_cumsum": 2830,
          "query_strong_accuracy_list": 0.5,
          "recommendation": "Weak Certainty",
          "test_acc": 0.8010880652839171
         },
         {
          "all_unlabeled_roc_auc_scores": 0.9422789761022782,
          "asked_queries": 2845,
          "f1": 0.8014615139218156,
          "iteration": 135,
          "query_length": 9,
          "query_length_cumsum": 2836,
          "query_strong_accuracy_list": 0.8888888888888888,
          "recommendation": "Weak Certainty",
          "test_acc": 0.8045702592087313
         },
         {
          "all_unlabeled_roc_auc_scores": 0.9409132778880837,
          "asked_queries": 2850,
          "f1": 0.7983198726772722,
          "iteration": 136,
          "query_length": 5,
          "query_length_cumsum": 2845,
          "query_strong_accuracy_list": 1,
          "recommendation": "Weak Certainty",
          "test_acc": 0.8015032456440041
         },
         {
          "all_unlabeled_roc_auc_scores": 0.9407790494629906,
          "asked_queries": 2854,
          "f1": 0.7996628209052468,
          "iteration": 137,
          "query_length": 4,
          "query_length_cumsum": 2850,
          "query_strong_accuracy_list": 1,
          "recommendation": "Weak Certainty",
          "test_acc": 0.8029421826890182
         },
         {
          "all_unlabeled_roc_auc_scores": 0.9418423315154237,
          "asked_queries": 2858,
          "f1": 0.7997115947852358,
          "iteration": 138,
          "query_length": 4,
          "query_length_cumsum": 2854,
          "query_strong_accuracy_list": null,
          "recommendation": "Oracle",
          "test_acc": 0.803014731072285
         },
         {
          "all_unlabeled_roc_auc_scores": 0.9408967781347352,
          "asked_queries": 2862,
          "f1": 0.7949031474673501,
          "iteration": 139,
          "query_length": 4,
          "query_length_cumsum": 2858,
          "query_strong_accuracy_list": null,
          "recommendation": "Oracle",
          "test_acc": 0.7982847341337908
         },
         {
          "all_unlabeled_roc_auc_scores": 0.9433681054516446,
          "asked_queries": 2870,
          "f1": 0.7959177812245851,
          "iteration": 140,
          "query_length": 8,
          "query_length_cumsum": 2862,
          "query_strong_accuracy_list": null,
          "recommendation": "Oracle",
          "test_acc": 0.7994496044031648
         },
         {
          "all_unlabeled_roc_auc_scores": 0.940850829114232,
          "asked_queries": 2871,
          "f1": 0.8014990517774457,
          "iteration": 141,
          "query_length": 1,
          "query_length_cumsum": 2870,
          "query_strong_accuracy_list": null,
          "recommendation": "Oracle",
          "test_acc": 0.8045423262216105
         },
         {
          "all_unlabeled_roc_auc_scores": 0.9413620909205807,
          "asked_queries": 2873,
          "f1": 0.8008040926421641,
          "iteration": 142,
          "query_length": 2,
          "query_length_cumsum": 2871,
          "query_strong_accuracy_list": 1,
          "recommendation": "Weak Certainty",
          "test_acc": 0.8037190082644629
         },
         {
          "all_unlabeled_roc_auc_scores": 0.9420570423297002,
          "asked_queries": 2877,
          "f1": 0.7978253804479569,
          "iteration": 143,
          "query_length": 4,
          "query_length_cumsum": 2873,
          "query_strong_accuracy_list": null,
          "recommendation": "Oracle",
          "test_acc": 0.8006896551724138
         },
         {
          "all_unlabeled_roc_auc_scores": 0.9421190082344456,
          "asked_queries": 2884,
          "f1": 0.803434772397516,
          "iteration": 144,
          "query_length": 7,
          "query_length_cumsum": 2877,
          "query_strong_accuracy_list": null,
          "recommendation": "Oracle",
          "test_acc": 0.8064293121327342
         },
         {
          "all_unlabeled_roc_auc_scores": 0.9444003752560501,
          "asked_queries": 2886,
          "f1": 0.7996545911785508,
          "iteration": 145,
          "query_length": 2,
          "query_length_cumsum": 2884,
          "query_strong_accuracy_list": null,
          "recommendation": "Oracle",
          "test_acc": 0.8028363887928053
         },
         {
          "all_unlabeled_roc_auc_scores": 0.9428994227167008,
          "asked_queries": 2888,
          "f1": 0.7982061018861536,
          "iteration": 146,
          "query_length": 2,
          "query_length_cumsum": 2886,
          "query_strong_accuracy_list": null,
          "recommendation": "Oracle",
          "test_acc": 0.8013153340256144
         }
        ]
       },
       "vconcat": [
        {
         "data": {
          "name": "data-e07f8e5cbade7c7206dda43d4f0c3e06"
         },
         "hconcat": [
          {
           "encoding": {
            "color": {
             "field": "recommendation",
             "type": "nominal"
            },
            "tooltip": [
             {
              "field": "iteration",
              "type": "quantitative"
             },
             {
              "field": "f1",
              "type": "quantitative"
             },
             {
              "field": "test_acc",
              "type": "quantitative"
             },
             {
              "field": "all_unlabeled_roc_auc_scores",
              "type": "quantitative"
             },
             {
              "field": "query_strong_accuracy_list",
              "type": "quantitative"
             },
             {
              "field": "query_length",
              "type": "quantitative"
             },
             {
              "field": "recommendation",
              "type": "nominal"
             }
            ],
            "x": {
             "field": "query_length_cumsum",
             "title": "#asked queries (weak and oracle)",
             "type": "quantitative"
            },
            "x2": {
             "field": "asked_queries"
            },
            "y": {
             "field": "all_unlabeled_roc_auc_scores",
             "scale": {
              "domain": [
               0,
               1
              ]
             },
             "type": "quantitative"
            }
           },
           "mark": "rect",
           "selection": {
            "selector500": {
             "bind": "scales",
             "encodings": [
              "x",
              "y"
             ],
             "type": "interval"
            }
           },
           "title": "dwtc: roc_auc"
          },
          {
           "encoding": {
            "color": {
             "field": "recommendation",
             "type": "nominal"
            },
            "tooltip": [
             {
              "field": "iteration",
              "type": "quantitative"
             },
             {
              "field": "f1",
              "type": "quantitative"
             },
             {
              "field": "test_acc",
              "type": "quantitative"
             },
             {
              "field": "all_unlabeled_roc_auc_scores",
              "type": "quantitative"
             },
             {
              "field": "query_strong_accuracy_list",
              "type": "quantitative"
             },
             {
              "field": "query_length",
              "type": "quantitative"
             },
             {
              "field": "recommendation",
              "type": "nominal"
             }
            ],
            "x": {
             "field": "query_length_cumsum",
             "title": "#asked queries (weak and oracle)",
             "type": "quantitative"
            },
            "x2": {
             "field": "asked_queries"
            },
            "y": {
             "field": "test_acc",
             "scale": {
              "domain": [
               0,
               1
              ]
             },
             "type": "quantitative"
            }
           },
           "mark": "rect",
           "selection": {
            "selector500": {
             "bind": "scales",
             "encodings": [
              "x",
              "y"
             ],
             "type": "interval"
            }
           },
           "title": "dwtc: test_acc"
          }
         ]
        },
        {
         "data": {
          "name": "data-4d66fabd07f3f2769c9bf0d581abcd96"
         },
         "hconcat": [
          {
           "encoding": {
            "color": {
             "field": "recommendation",
             "type": "nominal"
            },
            "tooltip": [
             {
              "field": "iteration",
              "type": "quantitative"
             },
             {
              "field": "f1",
              "type": "quantitative"
             },
             {
              "field": "test_acc",
              "type": "quantitative"
             },
             {
              "field": "all_unlabeled_roc_auc_scores",
              "type": "quantitative"
             },
             {
              "field": "query_strong_accuracy_list",
              "type": "quantitative"
             },
             {
              "field": "query_length",
              "type": "quantitative"
             },
             {
              "field": "recommendation",
              "type": "nominal"
             }
            ],
            "x": {
             "field": "query_length_cumsum",
             "title": "#asked queries (weak and oracle)",
             "type": "quantitative"
            },
            "x2": {
             "field": "asked_queries"
            },
            "y": {
             "field": "all_unlabeled_roc_auc_scores",
             "scale": {
              "domain": [
               0,
               1
              ]
             },
             "type": "quantitative"
            }
           },
           "mark": "rect",
           "selection": {
            "selector501": {
             "bind": "scales",
             "encodings": [
              "x",
              "y"
             ],
             "type": "interval"
            }
           },
           "title": "ibn_sina: roc_auc"
          },
          {
           "encoding": {
            "color": {
             "field": "recommendation",
             "type": "nominal"
            },
            "tooltip": [
             {
              "field": "iteration",
              "type": "quantitative"
             },
             {
              "field": "f1",
              "type": "quantitative"
             },
             {
              "field": "test_acc",
              "type": "quantitative"
             },
             {
              "field": "all_unlabeled_roc_auc_scores",
              "type": "quantitative"
             },
             {
              "field": "query_strong_accuracy_list",
              "type": "quantitative"
             },
             {
              "field": "query_length",
              "type": "quantitative"
             },
             {
              "field": "recommendation",
              "type": "nominal"
             }
            ],
            "x": {
             "field": "query_length_cumsum",
             "title": "#asked queries (weak and oracle)",
             "type": "quantitative"
            },
            "x2": {
             "field": "asked_queries"
            },
            "y": {
             "field": "test_acc",
             "scale": {
              "domain": [
               0,
               1
              ]
             },
             "type": "quantitative"
            }
           },
           "mark": "rect",
           "selection": {
            "selector501": {
             "bind": "scales",
             "encodings": [
              "x",
              "y"
             ],
             "type": "interval"
            }
           },
           "title": "ibn_sina: test_acc"
          }
         ]
        },
        {
         "data": {
          "name": "data-33cc152192247f5476ff6c041bfe0415"
         },
         "hconcat": [
          {
           "encoding": {
            "color": {
             "field": "recommendation",
             "type": "nominal"
            },
            "tooltip": [
             {
              "field": "iteration",
              "type": "quantitative"
             },
             {
              "field": "f1",
              "type": "quantitative"
             },
             {
              "field": "test_acc",
              "type": "quantitative"
             },
             {
              "field": "all_unlabeled_roc_auc_scores",
              "type": "quantitative"
             },
             {
              "field": "query_strong_accuracy_list",
              "type": "quantitative"
             },
             {
              "field": "query_length",
              "type": "quantitative"
             },
             {
              "field": "recommendation",
              "type": "nominal"
             }
            ],
            "x": {
             "field": "query_length_cumsum",
             "title": "#asked queries (weak and oracle)",
             "type": "quantitative"
            },
            "x2": {
             "field": "asked_queries"
            },
            "y": {
             "field": "all_unlabeled_roc_auc_scores",
             "scale": {
              "domain": [
               0,
               1
              ]
             },
             "type": "quantitative"
            }
           },
           "mark": "rect",
           "selection": {
            "selector502": {
             "bind": "scales",
             "encodings": [
              "x",
              "y"
             ],
             "type": "interval"
            }
           },
           "title": "hiva: roc_auc"
          },
          {
           "encoding": {
            "color": {
             "field": "recommendation",
             "type": "nominal"
            },
            "tooltip": [
             {
              "field": "iteration",
              "type": "quantitative"
             },
             {
              "field": "f1",
              "type": "quantitative"
             },
             {
              "field": "test_acc",
              "type": "quantitative"
             },
             {
              "field": "all_unlabeled_roc_auc_scores",
              "type": "quantitative"
             },
             {
              "field": "query_strong_accuracy_list",
              "type": "quantitative"
             },
             {
              "field": "query_length",
              "type": "quantitative"
             },
             {
              "field": "recommendation",
              "type": "nominal"
             }
            ],
            "x": {
             "field": "query_length_cumsum",
             "title": "#asked queries (weak and oracle)",
             "type": "quantitative"
            },
            "x2": {
             "field": "asked_queries"
            },
            "y": {
             "field": "test_acc",
             "scale": {
              "domain": [
               0,
               1
              ]
             },
             "type": "quantitative"
            }
           },
           "mark": "rect",
           "selection": {
            "selector502": {
             "bind": "scales",
             "encodings": [
              "x",
              "y"
             ],
             "type": "interval"
            }
           },
           "title": "hiva: test_acc"
          }
         ]
        },
        {
         "data": {
          "name": "data-bfebcaf7d249ed01dfbe223523383148"
         },
         "hconcat": [
          {
           "encoding": {
            "color": {
             "field": "recommendation",
             "type": "nominal"
            },
            "tooltip": [
             {
              "field": "iteration",
              "type": "quantitative"
             },
             {
              "field": "f1",
              "type": "quantitative"
             },
             {
              "field": "test_acc",
              "type": "quantitative"
             },
             {
              "field": "all_unlabeled_roc_auc_scores",
              "type": "quantitative"
             },
             {
              "field": "query_strong_accuracy_list",
              "type": "quantitative"
             },
             {
              "field": "query_length",
              "type": "quantitative"
             },
             {
              "field": "recommendation",
              "type": "nominal"
             }
            ],
            "x": {
             "field": "query_length_cumsum",
             "title": "#asked queries (weak and oracle)",
             "type": "quantitative"
            },
            "x2": {
             "field": "asked_queries"
            },
            "y": {
             "field": "all_unlabeled_roc_auc_scores",
             "scale": {
              "domain": [
               0,
               1
              ]
             },
             "type": "quantitative"
            }
           },
           "mark": "rect",
           "selection": {
            "selector503": {
             "bind": "scales",
             "encodings": [
              "x",
              "y"
             ],
             "type": "interval"
            }
           },
           "title": "orange: roc_auc"
          },
          {
           "encoding": {
            "color": {
             "field": "recommendation",
             "type": "nominal"
            },
            "tooltip": [
             {
              "field": "iteration",
              "type": "quantitative"
             },
             {
              "field": "f1",
              "type": "quantitative"
             },
             {
              "field": "test_acc",
              "type": "quantitative"
             },
             {
              "field": "all_unlabeled_roc_auc_scores",
              "type": "quantitative"
             },
             {
              "field": "query_strong_accuracy_list",
              "type": "quantitative"
             },
             {
              "field": "query_length",
              "type": "quantitative"
             },
             {
              "field": "recommendation",
              "type": "nominal"
             }
            ],
            "x": {
             "field": "query_length_cumsum",
             "title": "#asked queries (weak and oracle)",
             "type": "quantitative"
            },
            "x2": {
             "field": "asked_queries"
            },
            "y": {
             "field": "test_acc",
             "scale": {
              "domain": [
               0,
               1
              ]
             },
             "type": "quantitative"
            }
           },
           "mark": "rect",
           "selection": {
            "selector503": {
             "bind": "scales",
             "encodings": [
              "x",
              "y"
             ],
             "type": "interval"
            }
           },
           "title": "orange: test_acc"
          }
         ]
        },
        {
         "data": {
          "name": "data-0431997c818155aa2ae6267f4fa74e7d"
         },
         "hconcat": [
          {
           "encoding": {
            "color": {
             "field": "recommendation",
             "type": "nominal"
            },
            "tooltip": [
             {
              "field": "iteration",
              "type": "quantitative"
             },
             {
              "field": "f1",
              "type": "quantitative"
             },
             {
              "field": "test_acc",
              "type": "quantitative"
             },
             {
              "field": "all_unlabeled_roc_auc_scores",
              "type": "quantitative"
             },
             {
              "field": "query_strong_accuracy_list",
              "type": "quantitative"
             },
             {
              "field": "query_length",
              "type": "quantitative"
             },
             {
              "field": "recommendation",
              "type": "nominal"
             }
            ],
            "x": {
             "field": "query_length_cumsum",
             "title": "#asked queries (weak and oracle)",
             "type": "quantitative"
            },
            "x2": {
             "field": "asked_queries"
            },
            "y": {
             "field": "all_unlabeled_roc_auc_scores",
             "scale": {
              "domain": [
               0,
               1
              ]
             },
             "type": "quantitative"
            }
           },
           "mark": "rect",
           "selection": {
            "selector504": {
             "bind": "scales",
             "encodings": [
              "x",
              "y"
             ],
             "type": "interval"
            }
           },
           "title": "sylva: roc_auc"
          },
          {
           "encoding": {
            "color": {
             "field": "recommendation",
             "type": "nominal"
            },
            "tooltip": [
             {
              "field": "iteration",
              "type": "quantitative"
             },
             {
              "field": "f1",
              "type": "quantitative"
             },
             {
              "field": "test_acc",
              "type": "quantitative"
             },
             {
              "field": "all_unlabeled_roc_auc_scores",
              "type": "quantitative"
             },
             {
              "field": "query_strong_accuracy_list",
              "type": "quantitative"
             },
             {
              "field": "query_length",
              "type": "quantitative"
             },
             {
              "field": "recommendation",
              "type": "nominal"
             }
            ],
            "x": {
             "field": "query_length_cumsum",
             "title": "#asked queries (weak and oracle)",
             "type": "quantitative"
            },
            "x2": {
             "field": "asked_queries"
            },
            "y": {
             "field": "test_acc",
             "scale": {
              "domain": [
               0,
               1
              ]
             },
             "type": "quantitative"
            }
           },
           "mark": "rect",
           "selection": {
            "selector504": {
             "bind": "scales",
             "encodings": [
              "x",
              "y"
             ],
             "type": "interval"
            }
           },
           "title": "sylva: test_acc"
          }
         ]
        },
        {
         "data": {
          "name": "data-0a7aa5d0dc0897a7ff4e037557bb021b"
         },
         "hconcat": [
          {
           "encoding": {
            "color": {
             "field": "recommendation",
             "type": "nominal"
            },
            "tooltip": [
             {
              "field": "iteration",
              "type": "quantitative"
             },
             {
              "field": "f1",
              "type": "quantitative"
             },
             {
              "field": "test_acc",
              "type": "quantitative"
             },
             {
              "field": "all_unlabeled_roc_auc_scores",
              "type": "quantitative"
             },
             {
              "field": "query_strong_accuracy_list",
              "type": "quantitative"
             },
             {
              "field": "query_length",
              "type": "quantitative"
             },
             {
              "field": "recommendation",
              "type": "nominal"
             }
            ],
            "x": {
             "field": "query_length_cumsum",
             "title": "#asked queries (weak and oracle)",
             "type": "quantitative"
            },
            "x2": {
             "field": "asked_queries"
            },
            "y": {
             "field": "all_unlabeled_roc_auc_scores",
             "scale": {
              "domain": [
               0,
               1
              ]
             },
             "type": "quantitative"
            }
           },
           "mark": "rect",
           "selection": {
            "selector505": {
             "bind": "scales",
             "encodings": [
              "x",
              "y"
             ],
             "type": "interval"
            }
           },
           "title": "zebra: roc_auc"
          },
          {
           "encoding": {
            "color": {
             "field": "recommendation",
             "type": "nominal"
            },
            "tooltip": [
             {
              "field": "iteration",
              "type": "quantitative"
             },
             {
              "field": "f1",
              "type": "quantitative"
             },
             {
              "field": "test_acc",
              "type": "quantitative"
             },
             {
              "field": "all_unlabeled_roc_auc_scores",
              "type": "quantitative"
             },
             {
              "field": "query_strong_accuracy_list",
              "type": "quantitative"
             },
             {
              "field": "query_length",
              "type": "quantitative"
             },
             {
              "field": "recommendation",
              "type": "nominal"
             }
            ],
            "x": {
             "field": "query_length_cumsum",
             "title": "#asked queries (weak and oracle)",
             "type": "quantitative"
            },
            "x2": {
             "field": "asked_queries"
            },
            "y": {
             "field": "test_acc",
             "scale": {
              "domain": [
               0,
               1
              ]
             },
             "type": "quantitative"
            }
           },
           "mark": "rect",
           "selection": {
            "selector505": {
             "bind": "scales",
             "encodings": [
              "x",
              "y"
             ],
             "type": "interval"
            }
           },
           "title": "zebra: test_acc"
          }
         ]
        }
       ]
      },
      "image/png": "[encoded data removed]",
      "text/plain": [
       "<VegaLite 4 object>\n",
       "\n",
       "If you see this message, it means the renderer has not been properly enabled\n",
       "for the frontend that you are using. For more information, see\n",
       "https://altair-viz.github.io/user_guide/troubleshooting.html\n"
      ]
     },
     "execution_count": 173,
     "metadata": {},
     "output_type": "execute_result"
    }
   ],
   "source": [
    "charts = []\n",
    "\n",
    "alt.renderers.enable('mimetype')\n",
    "\n",
    "for result in results[:]:\n",
    "    \n",
    "    metrics = loads(result.metrics_per_al_cycle)\n",
    "    test_data_metrics = [metrics['test_data_metrics'][0][f][0]['weighted avg'] for f in range(0, len(metrics['test_data_metrics'][0]))]\n",
    "    test_acc = [metrics['test_data_metrics'][0][f][0]['accuracy'] for f in range(0, len(metrics['test_data_metrics'][0]))]\n",
    "\n",
    "    data = pd.DataFrame({\n",
    "        'iteration': range(0, len(metrics['all_unlabeled_roc_auc_scores'])),\n",
    "        'all_unlabeled_roc_auc_scores': metrics['all_unlabeled_roc_auc_scores'],\n",
    "        'query_length': metrics['query_length'],\n",
    "        'recommendation': metrics['recommendation'],\n",
    "        'query_strong_accuracy_list': metrics['query_strong_accuracy_list'],\n",
    "        'f1': [ i['f1-score'] for i in test_data_metrics],\n",
    "        'test_acc': test_acc,\n",
    "        #'asked_queries': [sum(metrics['query_length'][:i]) for i in range(0, len(metrics['query_length']))],\n",
    "    })\n",
    "    \n",
    "    data['asked_queries'] = data['query_length'].cumsum()\n",
    "    data['query_length_cumsum'] = data['asked_queries'].shift(fill_value=0)\n",
    "    \n",
    "    #print(data[['asked_queries', 'query_length']])\n",
    "    \n",
    "    data['recommendation'] = data['recommendation'].replace({\n",
    "        'A': 'Oracle', \n",
    "        'C': 'Weak Cluster',\n",
    "        'U': 'Weak Certainty',\n",
    "        'G': 'Ground Truth',\n",
    "    })\n",
    "    \n",
    "    #data = data[:100]\n",
    "    \n",
    "    # calculate global score OHNE \n",
    "\n",
    "    chart = alt.Chart(data).mark_rect(\n",
    "        #point=True, \n",
    "        #line=True,\n",
    "        #interpolate='step-after',\n",
    "    ).encode(\n",
    "        x=alt.X('query_length_cumsum', title=\"#asked queries (weak and oracle)\"),\n",
    "        x2='asked_queries',\n",
    "        color='recommendation',\n",
    "        tooltip=[\n",
    "            'iteration', 'f1', 'test_acc', 'all_unlabeled_roc_auc_scores', 'query_strong_accuracy_list', 'query_length', 'recommendation'\n",
    "        ],\n",
    "        #scale=alt.Scale(domain=[0,1])\n",
    "    ).properties(\n",
    "        title=result.dataset_name\n",
    "    ).interactive()\n",
    "    charts.append(alt.hconcat(\n",
    "        chart.encode(alt.Y('all_unlabeled_roc_auc_scores', scale=alt.Scale(domain=[0,1]))).properties(title=result.dataset_name + ': roc_auc'),\n",
    "        #chart.encode(alt.Y('f1', scale=alt.Scale(domain=[0,1]))).properties(title=result.dataset_name + ': f1'),\n",
    "        chart.encode(alt.Y('test_acc', scale=alt.Scale(domain=[0,1]))).properties(title=result.dataset_name + ': test_acc'),\n",
    "    ))\n",
    "\n",
    "alt.vconcat(*charts).configure()"
   ]
  },
  {
   "cell_type": "code",
   "execution_count": null,
   "metadata": {},
   "outputs": [],
   "source": []
  }
 ],
 "metadata": {
  "kernelspec": {
   "display_name": "weak",
   "language": "python",
   "name": "weak"
  },
  "language_info": {
   "codemirror_mode": {
    "name": "ipython",
    "version": 3
   },
   "file_extension": ".py",
   "mimetype": "text/x-python",
   "name": "python",
   "nbconvert_exporter": "python",
   "pygments_lexer": "ipython3",
   "version": "3.8.1"
  }
 },
 "nbformat": 4,
 "nbformat_minor": 4
}
